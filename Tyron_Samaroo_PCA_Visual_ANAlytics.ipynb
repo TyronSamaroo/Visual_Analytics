{
  "nbformat": 4,
  "nbformat_minor": 0,
  "metadata": {
    "colab": {
      "name": "Tyron_Samaroo_PCA_Visual_ANAlytics.ipynb",
      "provenance": [],
      "collapsed_sections": [],
      "authorship_tag": "ABX9TyP0PJxUwLG8fnWQ9yKyMK4E",
      "include_colab_link": true
    },
    "kernelspec": {
      "name": "python3",
      "display_name": "Python 3"
    },
    "language_info": {
      "name": "python"
    }
  },
  "cells": [
    {
      "cell_type": "markdown",
      "metadata": {
        "id": "view-in-github",
        "colab_type": "text"
      },
      "source": [
        "<a href=\"https://colab.research.google.com/github/TyronSamaroo/Visual_Analytics/blob/main/Tyron_Samaroo_PCA_Visual_ANAlytics.ipynb\" target=\"_parent\"><img src=\"https://colab.research.google.com/assets/colab-badge.svg\" alt=\"Open In Colab\"/></a>"
      ]
    },
    {
      "cell_type": "markdown",
      "metadata": {
        "id": "itG7VtKUNpld"
      },
      "source": [
        "# Tyron Samaroo "
      ]
    },
    {
      "cell_type": "markdown",
      "metadata": {
        "id": "w48IRO8fNwRx"
      },
      "source": [
        "## Libraries "
      ]
    },
    {
      "cell_type": "code",
      "metadata": {
        "id": "x9tQFKGmTUB2"
      },
      "source": [
        "import pandas as pd\n",
        "import seaborn as sns\n",
        "from sklearn.decomposition import PCA\n",
        "import matplotlib.pyplot as plt\n",
        "import seaborn as sns\n",
        "from sklearn.preprocessing import scale\n",
        "import requests\n",
        "import json"
      ],
      "execution_count": 45,
      "outputs": []
    },
    {
      "cell_type": "markdown",
      "metadata": {
        "id": "TVnSZwzKN4zU"
      },
      "source": [
        "## Reading CSV \n",
        "\n",
        "Data comes from https://data.ny.gov/Transportation/Fare-Card-History-for-Metropolitan-Transportation-/v7qc-gwpn\n",
        "\n",
        "These files show the number of MetroCard swipes made each week by customers entering each station of the New York City Subway, PATH, AirTrain JFK and the Roosevelt Island Tram, broken out to show the relative popularity of the various types of MetroCards. MTA New York City Transit posts the latest data every Saturday by 1 a.m., and the dates listed in the links reference the date the data is posted. The data in the files covers seven-day periods beginning on the Saturday two weeks prior to the posting date and ending on the following Friday."
      ]
    },
    {
      "cell_type": "code",
      "metadata": {
        "colab": {
          "base_uri": "https://localhost:8080/"
        },
        "id": "6n9JNcZeO_aa",
        "outputId": "49b76f07-468c-4e8c-a9af-5fc546edc605"
      },
      "source": [
        "!wget https://data.ny.gov/api/views/v7qc-gwpn/rows.csv"
      ],
      "execution_count": 55,
      "outputs": [
        {
          "output_type": "stream",
          "name": "stdout",
          "text": [
            "--2021-12-07 00:24:12--  https://data.ny.gov/api/views/v7qc-gwpn/rows.csv\n",
            "Resolving data.ny.gov (data.ny.gov)... 52.206.140.205, 52.206.68.26, 52.206.140.199\n",
            "Connecting to data.ny.gov (data.ny.gov)|52.206.140.205|:443... connected.\n",
            "HTTP request sent, awaiting response... 200 OK\n",
            "Length: unspecified [text/csv]\n",
            "Saving to: ‘rows.csv.1’\n",
            "\n",
            "rows.csv.1              [       <=>          ]  14.97M   528KB/s               ^C\n"
          ]
        }
      ]
    },
    {
      "cell_type": "code",
      "metadata": {
        "id": "_uPw4RG3PbIY"
      },
      "source": [
        "df = pd.read_csv('rows.csv')"
      ],
      "execution_count": 56,
      "outputs": []
    },
    {
      "cell_type": "markdown",
      "metadata": {
        "id": "2L38cNBuOigY"
      },
      "source": [
        "## Analysis "
      ]
    },
    {
      "cell_type": "code",
      "metadata": {
        "colab": {
          "base_uri": "https://localhost:8080/",
          "height": 504
        },
        "id": "XdOF-3lcfXiN",
        "outputId": "9f50cb2f-9808-40cf-9ad5-ef9d6779f47d"
      },
      "source": [
        "df.head()"
      ],
      "execution_count": 58,
      "outputs": [
        {
          "output_type": "execute_result",
          "data": {
            "text/html": [
              "<div>\n",
              "<style scoped>\n",
              "    .dataframe tbody tr th:only-of-type {\n",
              "        vertical-align: middle;\n",
              "    }\n",
              "\n",
              "    .dataframe tbody tr th {\n",
              "        vertical-align: top;\n",
              "    }\n",
              "\n",
              "    .dataframe thead th {\n",
              "        text-align: right;\n",
              "    }\n",
              "</style>\n",
              "<table border=\"1\" class=\"dataframe\">\n",
              "  <thead>\n",
              "    <tr style=\"text-align: right;\">\n",
              "      <th></th>\n",
              "      <th>From Date</th>\n",
              "      <th>To Date</th>\n",
              "      <th>Remote Station ID</th>\n",
              "      <th>Station</th>\n",
              "      <th>Full Fare</th>\n",
              "      <th>Senior Citizen / Disabled</th>\n",
              "      <th>7 Day ADA Farecard Access System Unlimited</th>\n",
              "      <th>30 Day ADA Farecard Access System Unlimited</th>\n",
              "      <th>Joint Rail Road Ticket</th>\n",
              "      <th>7 Day Unlimited</th>\n",
              "      <th>30 Day Unlimited</th>\n",
              "      <th>14 Day Reduced Fare Media Unlimited</th>\n",
              "      <th>1 Day Unlimited</th>\n",
              "      <th>14 Day Unlimited</th>\n",
              "      <th>7 Day Express Bus Pass</th>\n",
              "      <th>Transit Check Metrocard</th>\n",
              "      <th>LIB Special Senior</th>\n",
              "      <th>Rail Road Unlimited No Trade</th>\n",
              "      <th>Transit Check Metrocard Annual Metrocard</th>\n",
              "      <th>Mail and Ride Easy Pay Express</th>\n",
              "      <th>Mail and Ride Unlimited</th>\n",
              "      <th>Path 2 Trip</th>\n",
              "      <th>Airtran Full Fare</th>\n",
              "      <th>Airtran 30 Day</th>\n",
              "      <th>Airtran 10 Trip</th>\n",
              "      <th>Airtran Monthly</th>\n",
              "    </tr>\n",
              "  </thead>\n",
              "  <tbody>\n",
              "    <tr>\n",
              "      <th>0</th>\n",
              "      <td>05/29/2010</td>\n",
              "      <td>06/04/2010</td>\n",
              "      <td>R001</td>\n",
              "      <td>WHITEHALL STREET</td>\n",
              "      <td>56961</td>\n",
              "      <td>1732</td>\n",
              "      <td>203</td>\n",
              "      <td>883</td>\n",
              "      <td>358</td>\n",
              "      <td>17654</td>\n",
              "      <td>32369</td>\n",
              "      <td>59.0</td>\n",
              "      <td>6733.0</td>\n",
              "      <td>1835.0</td>\n",
              "      <td>426</td>\n",
              "      <td>892</td>\n",
              "      <td>0</td>\n",
              "      <td>1035</td>\n",
              "      <td>4798</td>\n",
              "      <td>431</td>\n",
              "      <td>91</td>\n",
              "      <td>0</td>\n",
              "      <td>418</td>\n",
              "      <td>0</td>\n",
              "      <td>0</td>\n",
              "      <td>0</td>\n",
              "    </tr>\n",
              "    <tr>\n",
              "      <th>1</th>\n",
              "      <td>05/29/2010</td>\n",
              "      <td>06/04/2010</td>\n",
              "      <td>R002</td>\n",
              "      <td>FULTON ST &amp; BROADWAY NASSAU</td>\n",
              "      <td>16210</td>\n",
              "      <td>503</td>\n",
              "      <td>41</td>\n",
              "      <td>157</td>\n",
              "      <td>29</td>\n",
              "      <td>3536</td>\n",
              "      <td>11462</td>\n",
              "      <td>8.0</td>\n",
              "      <td>451.0</td>\n",
              "      <td>598.0</td>\n",
              "      <td>50</td>\n",
              "      <td>389</td>\n",
              "      <td>0</td>\n",
              "      <td>90</td>\n",
              "      <td>3578</td>\n",
              "      <td>83</td>\n",
              "      <td>51</td>\n",
              "      <td>0</td>\n",
              "      <td>70</td>\n",
              "      <td>0</td>\n",
              "      <td>0</td>\n",
              "      <td>0</td>\n",
              "    </tr>\n",
              "    <tr>\n",
              "      <th>2</th>\n",
              "      <td>05/29/2010</td>\n",
              "      <td>06/04/2010</td>\n",
              "      <td>R003</td>\n",
              "      <td>CYPRESS HILLS</td>\n",
              "      <td>3292</td>\n",
              "      <td>110</td>\n",
              "      <td>7</td>\n",
              "      <td>41</td>\n",
              "      <td>0</td>\n",
              "      <td>1404</td>\n",
              "      <td>1344</td>\n",
              "      <td>0.0</td>\n",
              "      <td>36.0</td>\n",
              "      <td>174.0</td>\n",
              "      <td>5</td>\n",
              "      <td>20</td>\n",
              "      <td>0</td>\n",
              "      <td>4</td>\n",
              "      <td>154</td>\n",
              "      <td>9</td>\n",
              "      <td>1</td>\n",
              "      <td>0</td>\n",
              "      <td>5</td>\n",
              "      <td>0</td>\n",
              "      <td>0</td>\n",
              "      <td>0</td>\n",
              "    </tr>\n",
              "    <tr>\n",
              "      <th>3</th>\n",
              "      <td>05/29/2010</td>\n",
              "      <td>06/04/2010</td>\n",
              "      <td>R004</td>\n",
              "      <td>75TH STREET &amp; ELDERTS LANE</td>\n",
              "      <td>7774</td>\n",
              "      <td>257</td>\n",
              "      <td>20</td>\n",
              "      <td>125</td>\n",
              "      <td>0</td>\n",
              "      <td>2878</td>\n",
              "      <td>4472</td>\n",
              "      <td>1.0</td>\n",
              "      <td>79.0</td>\n",
              "      <td>278.0</td>\n",
              "      <td>7</td>\n",
              "      <td>27</td>\n",
              "      <td>0</td>\n",
              "      <td>9</td>\n",
              "      <td>409</td>\n",
              "      <td>20</td>\n",
              "      <td>2</td>\n",
              "      <td>0</td>\n",
              "      <td>20</td>\n",
              "      <td>0</td>\n",
              "      <td>0</td>\n",
              "      <td>0</td>\n",
              "    </tr>\n",
              "    <tr>\n",
              "      <th>4</th>\n",
              "      <td>05/29/2010</td>\n",
              "      <td>06/04/2010</td>\n",
              "      <td>R005</td>\n",
              "      <td>85TH STREET &amp; FOREST PKWAY</td>\n",
              "      <td>8794</td>\n",
              "      <td>420</td>\n",
              "      <td>32</td>\n",
              "      <td>142</td>\n",
              "      <td>1</td>\n",
              "      <td>2997</td>\n",
              "      <td>5297</td>\n",
              "      <td>0.0</td>\n",
              "      <td>88.0</td>\n",
              "      <td>353.0</td>\n",
              "      <td>6</td>\n",
              "      <td>48</td>\n",
              "      <td>0</td>\n",
              "      <td>10</td>\n",
              "      <td>317</td>\n",
              "      <td>9</td>\n",
              "      <td>22</td>\n",
              "      <td>0</td>\n",
              "      <td>28</td>\n",
              "      <td>0</td>\n",
              "      <td>0</td>\n",
              "      <td>0</td>\n",
              "    </tr>\n",
              "  </tbody>\n",
              "</table>\n",
              "</div>"
            ],
            "text/plain": [
              "    From Date     To Date  ... Airtran 10 Trip Airtran Monthly\n",
              "0  05/29/2010  06/04/2010  ...               0               0\n",
              "1  05/29/2010  06/04/2010  ...               0               0\n",
              "2  05/29/2010  06/04/2010  ...               0               0\n",
              "3  05/29/2010  06/04/2010  ...               0               0\n",
              "4  05/29/2010  06/04/2010  ...               0               0\n",
              "\n",
              "[5 rows x 26 columns]"
            ]
          },
          "metadata": {},
          "execution_count": 58
        }
      ]
    },
    {
      "cell_type": "code",
      "metadata": {
        "id": "XBFDzgOqW6VZ",
        "colab": {
          "base_uri": "https://localhost:8080/"
        },
        "outputId": "d04ebfe5-1168-428d-fbf8-59526fc5295f"
      },
      "source": [
        "df.info()"
      ],
      "execution_count": 59,
      "outputs": [
        {
          "output_type": "stream",
          "name": "stdout",
          "text": [
            "<class 'pandas.core.frame.DataFrame'>\n",
            "RangeIndex: 250874 entries, 0 to 250873\n",
            "Data columns (total 26 columns):\n",
            " #   Column                                       Non-Null Count   Dtype  \n",
            "---  ------                                       --------------   -----  \n",
            " 0   From Date                                    250874 non-null  object \n",
            " 1   To Date                                      250874 non-null  object \n",
            " 2   Remote Station ID                            250874 non-null  object \n",
            " 3   Station                                      250874 non-null  object \n",
            " 4   Full Fare                                    250874 non-null  int64  \n",
            " 5   Senior Citizen / Disabled                    250874 non-null  int64  \n",
            " 6   7 Day ADA Farecard Access System Unlimited   250874 non-null  int64  \n",
            " 7   30 Day ADA Farecard Access System Unlimited  250874 non-null  int64  \n",
            " 8   Joint Rail Road Ticket                       250874 non-null  int64  \n",
            " 9   7 Day Unlimited                              250874 non-null  int64  \n",
            " 10  30 Day Unlimited                             250874 non-null  int64  \n",
            " 11  14 Day Reduced Fare Media Unlimited          210076 non-null  float64\n",
            " 12  1 Day Unlimited                              210076 non-null  float64\n",
            " 13  14 Day Unlimited                             210076 non-null  float64\n",
            " 14  7 Day Express Bus Pass                       250874 non-null  int64  \n",
            " 15  Transit Check Metrocard                      250874 non-null  int64  \n",
            " 16  LIB Special Senior                           250874 non-null  int64  \n",
            " 17  Rail Road Unlimited No Trade                 250874 non-null  int64  \n",
            " 18  Transit Check Metrocard Annual Metrocard     250874 non-null  int64  \n",
            " 19  Mail and Ride Easy Pay Express               250874 non-null  int64  \n",
            " 20  Mail and Ride Unlimited                      250874 non-null  int64  \n",
            " 21  Path 2 Trip                                  250874 non-null  int64  \n",
            " 22  Airtran Full Fare                            250874 non-null  int64  \n",
            " 23  Airtran 30 Day                               250874 non-null  int64  \n",
            " 24  Airtran 10 Trip                              250874 non-null  int64  \n",
            " 25  Airtran Monthly                              250874 non-null  int64  \n",
            "dtypes: float64(3), int64(19), object(4)\n",
            "memory usage: 49.8+ MB\n"
          ]
        }
      ]
    },
    {
      "cell_type": "code",
      "metadata": {
        "colab": {
          "base_uri": "https://localhost:8080/",
          "height": 390
        },
        "id": "hQ1XVdQGOkRU",
        "outputId": "af507d67-156b-4745-937c-51f0992990f8"
      },
      "source": [
        "df.describe()"
      ],
      "execution_count": 60,
      "outputs": [
        {
          "output_type": "execute_result",
          "data": {
            "text/html": [
              "<div>\n",
              "<style scoped>\n",
              "    .dataframe tbody tr th:only-of-type {\n",
              "        vertical-align: middle;\n",
              "    }\n",
              "\n",
              "    .dataframe tbody tr th {\n",
              "        vertical-align: top;\n",
              "    }\n",
              "\n",
              "    .dataframe thead th {\n",
              "        text-align: right;\n",
              "    }\n",
              "</style>\n",
              "<table border=\"1\" class=\"dataframe\">\n",
              "  <thead>\n",
              "    <tr style=\"text-align: right;\">\n",
              "      <th></th>\n",
              "      <th>Full Fare</th>\n",
              "      <th>Senior Citizen / Disabled</th>\n",
              "      <th>7 Day ADA Farecard Access System Unlimited</th>\n",
              "      <th>30 Day ADA Farecard Access System Unlimited</th>\n",
              "      <th>Joint Rail Road Ticket</th>\n",
              "      <th>7 Day Unlimited</th>\n",
              "      <th>30 Day Unlimited</th>\n",
              "      <th>14 Day Reduced Fare Media Unlimited</th>\n",
              "      <th>1 Day Unlimited</th>\n",
              "      <th>14 Day Unlimited</th>\n",
              "      <th>7 Day Express Bus Pass</th>\n",
              "      <th>Transit Check Metrocard</th>\n",
              "      <th>LIB Special Senior</th>\n",
              "      <th>Rail Road Unlimited No Trade</th>\n",
              "      <th>Transit Check Metrocard Annual Metrocard</th>\n",
              "      <th>Mail and Ride Easy Pay Express</th>\n",
              "      <th>Mail and Ride Unlimited</th>\n",
              "      <th>Path 2 Trip</th>\n",
              "      <th>Airtran Full Fare</th>\n",
              "      <th>Airtran 30 Day</th>\n",
              "      <th>Airtran 10 Trip</th>\n",
              "      <th>Airtran Monthly</th>\n",
              "    </tr>\n",
              "  </thead>\n",
              "  <tbody>\n",
              "    <tr>\n",
              "      <th>count</th>\n",
              "      <td>250874.000000</td>\n",
              "      <td>250874.000000</td>\n",
              "      <td>250874.000000</td>\n",
              "      <td>250874.000000</td>\n",
              "      <td>250874.000000</td>\n",
              "      <td>250874.000000</td>\n",
              "      <td>250874.000000</td>\n",
              "      <td>210076.000000</td>\n",
              "      <td>210076.000000</td>\n",
              "      <td>210076.000000</td>\n",
              "      <td>250874.000000</td>\n",
              "      <td>250874.000000</td>\n",
              "      <td>250874.000000</td>\n",
              "      <td>250874.000000</td>\n",
              "      <td>250874.000000</td>\n",
              "      <td>250874.000000</td>\n",
              "      <td>250874.000000</td>\n",
              "      <td>250874.000000</td>\n",
              "      <td>250874.000000</td>\n",
              "      <td>250874.000000</td>\n",
              "      <td>250874.000000</td>\n",
              "      <td>250874.000000</td>\n",
              "    </tr>\n",
              "    <tr>\n",
              "      <th>mean</th>\n",
              "      <td>26076.792557</td>\n",
              "      <td>1470.705856</td>\n",
              "      <td>144.890280</td>\n",
              "      <td>411.707766</td>\n",
              "      <td>91.244988</td>\n",
              "      <td>11196.737175</td>\n",
              "      <td>16909.617206</td>\n",
              "      <td>1.914188</td>\n",
              "      <td>44.809912</td>\n",
              "      <td>89.816600</td>\n",
              "      <td>47.183020</td>\n",
              "      <td>283.073104</td>\n",
              "      <td>290.271587</td>\n",
              "      <td>156.844918</td>\n",
              "      <td>1387.440644</td>\n",
              "      <td>422.631177</td>\n",
              "      <td>246.105750</td>\n",
              "      <td>56.555339</td>\n",
              "      <td>429.118685</td>\n",
              "      <td>54.097786</td>\n",
              "      <td>14.469076</td>\n",
              "      <td>1.712752</td>\n",
              "    </tr>\n",
              "    <tr>\n",
              "      <th>std</th>\n",
              "      <td>33488.471559</td>\n",
              "      <td>1933.050843</td>\n",
              "      <td>166.485472</td>\n",
              "      <td>538.934222</td>\n",
              "      <td>389.173295</td>\n",
              "      <td>12761.516836</td>\n",
              "      <td>21826.380996</td>\n",
              "      <td>10.267916</td>\n",
              "      <td>362.391532</td>\n",
              "      <td>502.793153</td>\n",
              "      <td>143.635225</td>\n",
              "      <td>474.526322</td>\n",
              "      <td>433.830355</td>\n",
              "      <td>681.204948</td>\n",
              "      <td>1976.359838</td>\n",
              "      <td>857.698047</td>\n",
              "      <td>405.914798</td>\n",
              "      <td>491.744343</td>\n",
              "      <td>2193.303158</td>\n",
              "      <td>940.021749</td>\n",
              "      <td>269.068443</td>\n",
              "      <td>38.104769</td>\n",
              "    </tr>\n",
              "    <tr>\n",
              "      <th>min</th>\n",
              "      <td>0.000000</td>\n",
              "      <td>0.000000</td>\n",
              "      <td>0.000000</td>\n",
              "      <td>0.000000</td>\n",
              "      <td>0.000000</td>\n",
              "      <td>0.000000</td>\n",
              "      <td>0.000000</td>\n",
              "      <td>0.000000</td>\n",
              "      <td>0.000000</td>\n",
              "      <td>0.000000</td>\n",
              "      <td>0.000000</td>\n",
              "      <td>0.000000</td>\n",
              "      <td>0.000000</td>\n",
              "      <td>0.000000</td>\n",
              "      <td>0.000000</td>\n",
              "      <td>0.000000</td>\n",
              "      <td>0.000000</td>\n",
              "      <td>0.000000</td>\n",
              "      <td>0.000000</td>\n",
              "      <td>0.000000</td>\n",
              "      <td>0.000000</td>\n",
              "      <td>0.000000</td>\n",
              "    </tr>\n",
              "    <tr>\n",
              "      <th>25%</th>\n",
              "      <td>8077.000000</td>\n",
              "      <td>399.000000</td>\n",
              "      <td>41.000000</td>\n",
              "      <td>108.000000</td>\n",
              "      <td>1.000000</td>\n",
              "      <td>3151.000000</td>\n",
              "      <td>3643.000000</td>\n",
              "      <td>0.000000</td>\n",
              "      <td>0.000000</td>\n",
              "      <td>0.000000</td>\n",
              "      <td>0.000000</td>\n",
              "      <td>43.000000</td>\n",
              "      <td>0.000000</td>\n",
              "      <td>1.000000</td>\n",
              "      <td>275.000000</td>\n",
              "      <td>33.000000</td>\n",
              "      <td>29.000000</td>\n",
              "      <td>0.000000</td>\n",
              "      <td>37.000000</td>\n",
              "      <td>0.000000</td>\n",
              "      <td>0.000000</td>\n",
              "      <td>0.000000</td>\n",
              "    </tr>\n",
              "    <tr>\n",
              "      <th>50%</th>\n",
              "      <td>14415.000000</td>\n",
              "      <td>782.000000</td>\n",
              "      <td>93.000000</td>\n",
              "      <td>247.000000</td>\n",
              "      <td>5.000000</td>\n",
              "      <td>7268.000000</td>\n",
              "      <td>9245.500000</td>\n",
              "      <td>0.000000</td>\n",
              "      <td>0.000000</td>\n",
              "      <td>0.000000</td>\n",
              "      <td>5.000000</td>\n",
              "      <td>106.000000</td>\n",
              "      <td>159.000000</td>\n",
              "      <td>7.000000</td>\n",
              "      <td>687.000000</td>\n",
              "      <td>107.000000</td>\n",
              "      <td>93.000000</td>\n",
              "      <td>0.000000</td>\n",
              "      <td>102.000000</td>\n",
              "      <td>0.000000</td>\n",
              "      <td>0.000000</td>\n",
              "      <td>0.000000</td>\n",
              "    </tr>\n",
              "    <tr>\n",
              "      <th>75%</th>\n",
              "      <td>30621.000000</td>\n",
              "      <td>1714.000000</td>\n",
              "      <td>185.000000</td>\n",
              "      <td>490.000000</td>\n",
              "      <td>25.000000</td>\n",
              "      <td>14821.000000</td>\n",
              "      <td>22378.000000</td>\n",
              "      <td>0.000000</td>\n",
              "      <td>0.000000</td>\n",
              "      <td>0.000000</td>\n",
              "      <td>25.000000</td>\n",
              "      <td>291.000000</td>\n",
              "      <td>396.750000</td>\n",
              "      <td>38.000000</td>\n",
              "      <td>1672.000000</td>\n",
              "      <td>384.000000</td>\n",
              "      <td>289.000000</td>\n",
              "      <td>0.000000</td>\n",
              "      <td>322.000000</td>\n",
              "      <td>0.000000</td>\n",
              "      <td>0.000000</td>\n",
              "      <td>0.000000</td>\n",
              "    </tr>\n",
              "    <tr>\n",
              "      <th>max</th>\n",
              "      <td>381270.000000</td>\n",
              "      <td>18663.000000</td>\n",
              "      <td>1851.000000</td>\n",
              "      <td>6116.000000</td>\n",
              "      <td>7951.000000</td>\n",
              "      <td>147324.000000</td>\n",
              "      <td>276941.000000</td>\n",
              "      <td>457.000000</td>\n",
              "      <td>18867.000000</td>\n",
              "      <td>21757.000000</td>\n",
              "      <td>2460.000000</td>\n",
              "      <td>4849.000000</td>\n",
              "      <td>5787.000000</td>\n",
              "      <td>16197.000000</td>\n",
              "      <td>26099.000000</td>\n",
              "      <td>25825.000000</td>\n",
              "      <td>15030.000000</td>\n",
              "      <td>14035.000000</td>\n",
              "      <td>70177.000000</td>\n",
              "      <td>27988.000000</td>\n",
              "      <td>12006.000000</td>\n",
              "      <td>1329.000000</td>\n",
              "    </tr>\n",
              "  </tbody>\n",
              "</table>\n",
              "</div>"
            ],
            "text/plain": [
              "           Full Fare  ...  Airtran Monthly\n",
              "count  250874.000000  ...    250874.000000\n",
              "mean    26076.792557  ...         1.712752\n",
              "std     33488.471559  ...        38.104769\n",
              "min         0.000000  ...         0.000000\n",
              "25%      8077.000000  ...         0.000000\n",
              "50%     14415.000000  ...         0.000000\n",
              "75%     30621.000000  ...         0.000000\n",
              "max    381270.000000  ...      1329.000000\n",
              "\n",
              "[8 rows x 22 columns]"
            ]
          },
          "metadata": {},
          "execution_count": 60
        }
      ]
    },
    {
      "cell_type": "markdown",
      "metadata": {
        "id": "aEuaW9zOOOyz"
      },
      "source": [
        "## EDA \n",
        "\n",
        "Notice that mutiple data point for a single remote station id"
      ]
    },
    {
      "cell_type": "code",
      "metadata": {
        "colab": {
          "base_uri": "https://localhost:8080/",
          "height": 704
        },
        "id": "vse8onxQpotF",
        "outputId": "a2aa243c-3f87-4aa7-ec9a-862ed980d223"
      },
      "source": [
        "df[df['Remote Station ID'] == 'R098']"
      ],
      "execution_count": 57,
      "outputs": [
        {
          "output_type": "execute_result",
          "data": {
            "text/html": [
              "<div>\n",
              "<style scoped>\n",
              "    .dataframe tbody tr th:only-of-type {\n",
              "        vertical-align: middle;\n",
              "    }\n",
              "\n",
              "    .dataframe tbody tr th {\n",
              "        vertical-align: top;\n",
              "    }\n",
              "\n",
              "    .dataframe thead th {\n",
              "        text-align: right;\n",
              "    }\n",
              "</style>\n",
              "<table border=\"1\" class=\"dataframe\">\n",
              "  <thead>\n",
              "    <tr style=\"text-align: right;\">\n",
              "      <th></th>\n",
              "      <th>From Date</th>\n",
              "      <th>To Date</th>\n",
              "      <th>Remote Station ID</th>\n",
              "      <th>Station</th>\n",
              "      <th>Full Fare</th>\n",
              "      <th>Senior Citizen / Disabled</th>\n",
              "      <th>7 Day ADA Farecard Access System Unlimited</th>\n",
              "      <th>30 Day ADA Farecard Access System Unlimited</th>\n",
              "      <th>Joint Rail Road Ticket</th>\n",
              "      <th>7 Day Unlimited</th>\n",
              "      <th>30 Day Unlimited</th>\n",
              "      <th>14 Day Reduced Fare Media Unlimited</th>\n",
              "      <th>1 Day Unlimited</th>\n",
              "      <th>14 Day Unlimited</th>\n",
              "      <th>7 Day Express Bus Pass</th>\n",
              "      <th>Transit Check Metrocard</th>\n",
              "      <th>LIB Special Senior</th>\n",
              "      <th>Rail Road Unlimited No Trade</th>\n",
              "      <th>Transit Check Metrocard Annual Metrocard</th>\n",
              "      <th>Mail and Ride Easy Pay Express</th>\n",
              "      <th>Mail and Ride Unlimited</th>\n",
              "      <th>Path 2 Trip</th>\n",
              "      <th>Airtran Full Fare</th>\n",
              "      <th>Airtran 30 Day</th>\n",
              "      <th>Airtran 10 Trip</th>\n",
              "      <th>Airtran Monthly</th>\n",
              "    </tr>\n",
              "  </thead>\n",
              "  <tbody>\n",
              "    <tr>\n",
              "      <th>88</th>\n",
              "      <td>05/29/2010</td>\n",
              "      <td>06/04/2010</td>\n",
              "      <td>R098</td>\n",
              "      <td>CHURCH AVENUE</td>\n",
              "      <td>30236</td>\n",
              "      <td>1438</td>\n",
              "      <td>328</td>\n",
              "      <td>830</td>\n",
              "      <td>7</td>\n",
              "      <td>16795</td>\n",
              "      <td>23070</td>\n",
              "      <td>77.0</td>\n",
              "      <td>531.0</td>\n",
              "      <td>2284.0</td>\n",
              "      <td>50</td>\n",
              "      <td>169</td>\n",
              "      <td>0</td>\n",
              "      <td>30</td>\n",
              "      <td>2894</td>\n",
              "      <td>51</td>\n",
              "      <td>47</td>\n",
              "      <td>0</td>\n",
              "      <td>49</td>\n",
              "      <td>0</td>\n",
              "      <td>0</td>\n",
              "      <td>0</td>\n",
              "    </tr>\n",
              "    <tr>\n",
              "      <th>551</th>\n",
              "      <td>06/05/2010</td>\n",
              "      <td>06/11/2010</td>\n",
              "      <td>R098</td>\n",
              "      <td>CHURCH AVENUE</td>\n",
              "      <td>31145</td>\n",
              "      <td>1454</td>\n",
              "      <td>320</td>\n",
              "      <td>844</td>\n",
              "      <td>13</td>\n",
              "      <td>17784</td>\n",
              "      <td>23916</td>\n",
              "      <td>72.0</td>\n",
              "      <td>548.0</td>\n",
              "      <td>2475.0</td>\n",
              "      <td>56</td>\n",
              "      <td>198</td>\n",
              "      <td>0</td>\n",
              "      <td>14</td>\n",
              "      <td>3214</td>\n",
              "      <td>60</td>\n",
              "      <td>50</td>\n",
              "      <td>0</td>\n",
              "      <td>80</td>\n",
              "      <td>0</td>\n",
              "      <td>0</td>\n",
              "      <td>0</td>\n",
              "    </tr>\n",
              "    <tr>\n",
              "      <th>1014</th>\n",
              "      <td>06/12/2010</td>\n",
              "      <td>06/18/2010</td>\n",
              "      <td>R098</td>\n",
              "      <td>CHURCH AVENUE</td>\n",
              "      <td>31242</td>\n",
              "      <td>1513</td>\n",
              "      <td>328</td>\n",
              "      <td>872</td>\n",
              "      <td>17</td>\n",
              "      <td>18119</td>\n",
              "      <td>23859</td>\n",
              "      <td>82.0</td>\n",
              "      <td>499.0</td>\n",
              "      <td>2592.0</td>\n",
              "      <td>39</td>\n",
              "      <td>129</td>\n",
              "      <td>0</td>\n",
              "      <td>21</td>\n",
              "      <td>3289</td>\n",
              "      <td>55</td>\n",
              "      <td>49</td>\n",
              "      <td>0</td>\n",
              "      <td>78</td>\n",
              "      <td>0</td>\n",
              "      <td>0</td>\n",
              "      <td>0</td>\n",
              "    </tr>\n",
              "    <tr>\n",
              "      <th>1477</th>\n",
              "      <td>06/19/2010</td>\n",
              "      <td>06/25/2010</td>\n",
              "      <td>R098</td>\n",
              "      <td>CHURCH AVENUE</td>\n",
              "      <td>31639</td>\n",
              "      <td>1450</td>\n",
              "      <td>327</td>\n",
              "      <td>828</td>\n",
              "      <td>8</td>\n",
              "      <td>17815</td>\n",
              "      <td>23808</td>\n",
              "      <td>79.0</td>\n",
              "      <td>555.0</td>\n",
              "      <td>2483.0</td>\n",
              "      <td>64</td>\n",
              "      <td>148</td>\n",
              "      <td>0</td>\n",
              "      <td>17</td>\n",
              "      <td>3191</td>\n",
              "      <td>29</td>\n",
              "      <td>51</td>\n",
              "      <td>0</td>\n",
              "      <td>60</td>\n",
              "      <td>0</td>\n",
              "      <td>0</td>\n",
              "      <td>0</td>\n",
              "    </tr>\n",
              "    <tr>\n",
              "      <th>1942</th>\n",
              "      <td>06/26/2010</td>\n",
              "      <td>07/02/2010</td>\n",
              "      <td>R098</td>\n",
              "      <td>CHURCH AVENUE</td>\n",
              "      <td>32316</td>\n",
              "      <td>1468</td>\n",
              "      <td>319</td>\n",
              "      <td>770</td>\n",
              "      <td>5</td>\n",
              "      <td>17185</td>\n",
              "      <td>23327</td>\n",
              "      <td>59.0</td>\n",
              "      <td>542.0</td>\n",
              "      <td>2316.0</td>\n",
              "      <td>54</td>\n",
              "      <td>178</td>\n",
              "      <td>0</td>\n",
              "      <td>13</td>\n",
              "      <td>3000</td>\n",
              "      <td>36</td>\n",
              "      <td>53</td>\n",
              "      <td>0</td>\n",
              "      <td>87</td>\n",
              "      <td>0</td>\n",
              "      <td>0</td>\n",
              "      <td>0</td>\n",
              "    </tr>\n",
              "    <tr>\n",
              "      <th>...</th>\n",
              "      <td>...</td>\n",
              "      <td>...</td>\n",
              "      <td>...</td>\n",
              "      <td>...</td>\n",
              "      <td>...</td>\n",
              "      <td>...</td>\n",
              "      <td>...</td>\n",
              "      <td>...</td>\n",
              "      <td>...</td>\n",
              "      <td>...</td>\n",
              "      <td>...</td>\n",
              "      <td>...</td>\n",
              "      <td>...</td>\n",
              "      <td>...</td>\n",
              "      <td>...</td>\n",
              "      <td>...</td>\n",
              "      <td>...</td>\n",
              "      <td>...</td>\n",
              "      <td>...</td>\n",
              "      <td>...</td>\n",
              "      <td>...</td>\n",
              "      <td>...</td>\n",
              "      <td>...</td>\n",
              "      <td>...</td>\n",
              "      <td>...</td>\n",
              "      <td>...</td>\n",
              "    </tr>\n",
              "    <tr>\n",
              "      <th>248621</th>\n",
              "      <td>06/26/2021</td>\n",
              "      <td>07/02/2021</td>\n",
              "      <td>R098</td>\n",
              "      <td>CHURCH AVENUE</td>\n",
              "      <td>16661</td>\n",
              "      <td>1617</td>\n",
              "      <td>217</td>\n",
              "      <td>307</td>\n",
              "      <td>3</td>\n",
              "      <td>8719</td>\n",
              "      <td>6583</td>\n",
              "      <td>6.0</td>\n",
              "      <td>91.0</td>\n",
              "      <td>2.0</td>\n",
              "      <td>0</td>\n",
              "      <td>835</td>\n",
              "      <td>144</td>\n",
              "      <td>172</td>\n",
              "      <td>0</td>\n",
              "      <td>98</td>\n",
              "      <td>0</td>\n",
              "      <td>0</td>\n",
              "      <td>0</td>\n",
              "      <td>330</td>\n",
              "      <td>0</td>\n",
              "      <td>0</td>\n",
              "    </tr>\n",
              "    <tr>\n",
              "      <th>249091</th>\n",
              "      <td>12/25/2010</td>\n",
              "      <td>12/31/2010</td>\n",
              "      <td>R098</td>\n",
              "      <td>CHURCH AVENUE</td>\n",
              "      <td>15534</td>\n",
              "      <td>650</td>\n",
              "      <td>109</td>\n",
              "      <td>355</td>\n",
              "      <td>3</td>\n",
              "      <td>6504</td>\n",
              "      <td>8512</td>\n",
              "      <td>31.0</td>\n",
              "      <td>59.0</td>\n",
              "      <td>845.0</td>\n",
              "      <td>19</td>\n",
              "      <td>60</td>\n",
              "      <td>0</td>\n",
              "      <td>10</td>\n",
              "      <td>1103</td>\n",
              "      <td>13</td>\n",
              "      <td>29</td>\n",
              "      <td>0</td>\n",
              "      <td>46</td>\n",
              "      <td>0</td>\n",
              "      <td>0</td>\n",
              "      <td>0</td>\n",
              "    </tr>\n",
              "    <tr>\n",
              "      <th>249556</th>\n",
              "      <td>07/09/2021</td>\n",
              "      <td>07/03/2021</td>\n",
              "      <td>R098</td>\n",
              "      <td>CHURCH AVENUE</td>\n",
              "      <td>16237</td>\n",
              "      <td>1464</td>\n",
              "      <td>223</td>\n",
              "      <td>284</td>\n",
              "      <td>3</td>\n",
              "      <td>8221</td>\n",
              "      <td>6318</td>\n",
              "      <td>13.0</td>\n",
              "      <td>88.0</td>\n",
              "      <td>2.0</td>\n",
              "      <td>0</td>\n",
              "      <td>753</td>\n",
              "      <td>116</td>\n",
              "      <td>190</td>\n",
              "      <td>0</td>\n",
              "      <td>110</td>\n",
              "      <td>0</td>\n",
              "      <td>0</td>\n",
              "      <td>0</td>\n",
              "      <td>137</td>\n",
              "      <td>0</td>\n",
              "      <td>0</td>\n",
              "    </tr>\n",
              "    <tr>\n",
              "      <th>250025</th>\n",
              "      <td>07/23/2021</td>\n",
              "      <td>07/17/2021</td>\n",
              "      <td>R098</td>\n",
              "      <td>CHURCH AVENUE</td>\n",
              "      <td>17226</td>\n",
              "      <td>1661</td>\n",
              "      <td>233</td>\n",
              "      <td>347</td>\n",
              "      <td>4</td>\n",
              "      <td>8773</td>\n",
              "      <td>6767</td>\n",
              "      <td>24.0</td>\n",
              "      <td>84.0</td>\n",
              "      <td>0.0</td>\n",
              "      <td>0</td>\n",
              "      <td>801</td>\n",
              "      <td>138</td>\n",
              "      <td>226</td>\n",
              "      <td>0</td>\n",
              "      <td>95</td>\n",
              "      <td>0</td>\n",
              "      <td>0</td>\n",
              "      <td>0</td>\n",
              "      <td>354</td>\n",
              "      <td>0</td>\n",
              "      <td>0</td>\n",
              "    </tr>\n",
              "    <tr>\n",
              "      <th>250493</th>\n",
              "      <td>08/06/2021</td>\n",
              "      <td>07/31/2021</td>\n",
              "      <td>R098</td>\n",
              "      <td>CHURCH AVENUE</td>\n",
              "      <td>17126</td>\n",
              "      <td>1716</td>\n",
              "      <td>266</td>\n",
              "      <td>340</td>\n",
              "      <td>5</td>\n",
              "      <td>8947</td>\n",
              "      <td>7030</td>\n",
              "      <td>15.0</td>\n",
              "      <td>76.0</td>\n",
              "      <td>2.0</td>\n",
              "      <td>0</td>\n",
              "      <td>796</td>\n",
              "      <td>154</td>\n",
              "      <td>211</td>\n",
              "      <td>0</td>\n",
              "      <td>100</td>\n",
              "      <td>0</td>\n",
              "      <td>0</td>\n",
              "      <td>0</td>\n",
              "      <td>415</td>\n",
              "      <td>0</td>\n",
              "      <td>0</td>\n",
              "    </tr>\n",
              "  </tbody>\n",
              "</table>\n",
              "<p>530 rows × 26 columns</p>\n",
              "</div>"
            ],
            "text/plain": [
              "         From Date     To Date  ... Airtran 10 Trip Airtran Monthly\n",
              "88      05/29/2010  06/04/2010  ...               0               0\n",
              "551     06/05/2010  06/11/2010  ...               0               0\n",
              "1014    06/12/2010  06/18/2010  ...               0               0\n",
              "1477    06/19/2010  06/25/2010  ...               0               0\n",
              "1942    06/26/2010  07/02/2010  ...               0               0\n",
              "...            ...         ...  ...             ...             ...\n",
              "248621  06/26/2021  07/02/2021  ...               0               0\n",
              "249091  12/25/2010  12/31/2010  ...               0               0\n",
              "249556  07/09/2021  07/03/2021  ...               0               0\n",
              "250025  07/23/2021  07/17/2021  ...               0               0\n",
              "250493  08/06/2021  07/31/2021  ...               0               0\n",
              "\n",
              "[530 rows x 26 columns]"
            ]
          },
          "metadata": {},
          "execution_count": 57
        }
      ]
    },
    {
      "cell_type": "code",
      "metadata": {
        "colab": {
          "base_uri": "https://localhost:8080/"
        },
        "id": "2--_dh19oZXD",
        "outputId": "f3a700a0-4da8-4bf5-9252-d9323a2afd1d"
      },
      "source": [
        "df.iloc[0]"
      ],
      "execution_count": 33,
      "outputs": [
        {
          "output_type": "execute_result",
          "data": {
            "text/plain": [
              "from_date                                       2021-08-06T00:00:00.000\n",
              "to_date                                         2021-07-31T00:00:00.000\n",
              "remote_station_id                                                  R001\n",
              "station                                                WHITEHALL STREET\n",
              "full_fare                                                         27946\n",
              "senior_citizen_disabled                                            1824\n",
              "_7_day_ada_farecard_access_system_unlimited                         242\n",
              "_30_day_ada_farecard_access_system_unlimited                        376\n",
              "joint_rail_road_ticket                                                8\n",
              "_7_day_unlimited                                                  11958\n",
              "_30_day_unlimited                                                  6355\n",
              "_14_day_reduced_fare_media_unlimited                                 92\n",
              "_1_day_unlimited                                                    159\n",
              "_14_day_unlimited                                                     3\n",
              "_7_day_express_bus_pass                                              19\n",
              "transit_check_metrocard                                             552\n",
              "lib_special_senior                                                  539\n",
              "rail_road_unlimited_no_trade                                        162\n",
              "transit_check_metrocard_annual_metrocard                              0\n",
              "mail_and_ride_easy_pay_express                                      717\n",
              "mail_and_ride_unlimited                                               0\n",
              "path_2_trip                                                           0\n",
              "airtrain_full_fare                                                    0\n",
              "airtrain_30_day                                                     327\n",
              "airtrain_10_trip                                                      0\n",
              "airtrain_monthly                                                      0\n",
              "Name: 0, dtype: object"
            ]
          },
          "metadata": {},
          "execution_count": 33
        }
      ]
    },
    {
      "cell_type": "code",
      "metadata": {
        "colab": {
          "base_uri": "https://localhost:8080/",
          "height": 247
        },
        "id": "i5ATQeCNoHKd",
        "outputId": "5344f6df-0eec-4585-db9f-8aef61523ad2"
      },
      "source": [
        "df.describe()"
      ],
      "execution_count": 34,
      "outputs": [
        {
          "output_type": "execute_result",
          "data": {
            "text/html": [
              "<div>\n",
              "<style scoped>\n",
              "    .dataframe tbody tr th:only-of-type {\n",
              "        vertical-align: middle;\n",
              "    }\n",
              "\n",
              "    .dataframe tbody tr th {\n",
              "        vertical-align: top;\n",
              "    }\n",
              "\n",
              "    .dataframe thead th {\n",
              "        text-align: right;\n",
              "    }\n",
              "</style>\n",
              "<table border=\"1\" class=\"dataframe\">\n",
              "  <thead>\n",
              "    <tr style=\"text-align: right;\">\n",
              "      <th></th>\n",
              "      <th>from_date</th>\n",
              "      <th>to_date</th>\n",
              "      <th>remote_station_id</th>\n",
              "      <th>station</th>\n",
              "      <th>full_fare</th>\n",
              "      <th>senior_citizen_disabled</th>\n",
              "      <th>_7_day_ada_farecard_access_system_unlimited</th>\n",
              "      <th>_30_day_ada_farecard_access_system_unlimited</th>\n",
              "      <th>joint_rail_road_ticket</th>\n",
              "      <th>_7_day_unlimited</th>\n",
              "      <th>_30_day_unlimited</th>\n",
              "      <th>_14_day_reduced_fare_media_unlimited</th>\n",
              "      <th>_1_day_unlimited</th>\n",
              "      <th>_14_day_unlimited</th>\n",
              "      <th>_7_day_express_bus_pass</th>\n",
              "      <th>transit_check_metrocard</th>\n",
              "      <th>lib_special_senior</th>\n",
              "      <th>rail_road_unlimited_no_trade</th>\n",
              "      <th>transit_check_metrocard_annual_metrocard</th>\n",
              "      <th>mail_and_ride_easy_pay_express</th>\n",
              "      <th>mail_and_ride_unlimited</th>\n",
              "      <th>path_2_trip</th>\n",
              "      <th>airtrain_full_fare</th>\n",
              "      <th>airtrain_30_day</th>\n",
              "      <th>airtrain_10_trip</th>\n",
              "      <th>airtrain_monthly</th>\n",
              "    </tr>\n",
              "  </thead>\n",
              "  <tbody>\n",
              "    <tr>\n",
              "      <th>count</th>\n",
              "      <td>1000</td>\n",
              "      <td>1000</td>\n",
              "      <td>1000</td>\n",
              "      <td>1000</td>\n",
              "      <td>1000</td>\n",
              "      <td>1000</td>\n",
              "      <td>1000</td>\n",
              "      <td>1000</td>\n",
              "      <td>1000</td>\n",
              "      <td>1000</td>\n",
              "      <td>1000</td>\n",
              "      <td>1000</td>\n",
              "      <td>1000</td>\n",
              "      <td>1000</td>\n",
              "      <td>1000</td>\n",
              "      <td>1000</td>\n",
              "      <td>1000</td>\n",
              "      <td>1000</td>\n",
              "      <td>1000</td>\n",
              "      <td>1000</td>\n",
              "      <td>1000</td>\n",
              "      <td>1000</td>\n",
              "      <td>1000</td>\n",
              "      <td>1000</td>\n",
              "      <td>1000</td>\n",
              "      <td>1000</td>\n",
              "    </tr>\n",
              "    <tr>\n",
              "      <th>unique</th>\n",
              "      <td>3</td>\n",
              "      <td>3</td>\n",
              "      <td>469</td>\n",
              "      <td>457</td>\n",
              "      <td>971</td>\n",
              "      <td>780</td>\n",
              "      <td>265</td>\n",
              "      <td>402</td>\n",
              "      <td>52</td>\n",
              "      <td>915</td>\n",
              "      <td>918</td>\n",
              "      <td>131</td>\n",
              "      <td>271</td>\n",
              "      <td>20</td>\n",
              "      <td>86</td>\n",
              "      <td>531</td>\n",
              "      <td>423</td>\n",
              "      <td>308</td>\n",
              "      <td>29</td>\n",
              "      <td>396</td>\n",
              "      <td>7</td>\n",
              "      <td>8</td>\n",
              "      <td>5</td>\n",
              "      <td>385</td>\n",
              "      <td>5</td>\n",
              "      <td>4</td>\n",
              "    </tr>\n",
              "    <tr>\n",
              "      <th>top</th>\n",
              "      <td>2021-08-06T00:00:00.000</td>\n",
              "      <td>2021-07-31T00:00:00.000</td>\n",
              "      <td>R046</td>\n",
              "      <td>42ND STREET &amp; GRAND CENTRAL</td>\n",
              "      <td>4564</td>\n",
              "      <td>0</td>\n",
              "      <td>0</td>\n",
              "      <td>0</td>\n",
              "      <td>0</td>\n",
              "      <td>0</td>\n",
              "      <td>0</td>\n",
              "      <td>0</td>\n",
              "      <td>18</td>\n",
              "      <td>0</td>\n",
              "      <td>0</td>\n",
              "      <td>0</td>\n",
              "      <td>0</td>\n",
              "      <td>0</td>\n",
              "      <td>0</td>\n",
              "      <td>14</td>\n",
              "      <td>0</td>\n",
              "      <td>0</td>\n",
              "      <td>0</td>\n",
              "      <td>0</td>\n",
              "      <td>0</td>\n",
              "      <td>0</td>\n",
              "    </tr>\n",
              "    <tr>\n",
              "      <th>freq</th>\n",
              "      <td>469</td>\n",
              "      <td>469</td>\n",
              "      <td>3</td>\n",
              "      <td>9</td>\n",
              "      <td>3</td>\n",
              "      <td>26</td>\n",
              "      <td>33</td>\n",
              "      <td>32</td>\n",
              "      <td>516</td>\n",
              "      <td>30</td>\n",
              "      <td>30</td>\n",
              "      <td>154</td>\n",
              "      <td>21</td>\n",
              "      <td>589</td>\n",
              "      <td>532</td>\n",
              "      <td>30</td>\n",
              "      <td>27</td>\n",
              "      <td>35</td>\n",
              "      <td>970</td>\n",
              "      <td>19</td>\n",
              "      <td>980</td>\n",
              "      <td>978</td>\n",
              "      <td>995</td>\n",
              "      <td>31</td>\n",
              "      <td>985</td>\n",
              "      <td>969</td>\n",
              "    </tr>\n",
              "  </tbody>\n",
              "</table>\n",
              "</div>"
            ],
            "text/plain": [
              "                      from_date  ... airtrain_monthly\n",
              "count                      1000  ...             1000\n",
              "unique                        3  ...                4\n",
              "top     2021-08-06T00:00:00.000  ...                0\n",
              "freq                        469  ...              969\n",
              "\n",
              "[4 rows x 26 columns]"
            ]
          },
          "metadata": {},
          "execution_count": 34
        }
      ]
    },
    {
      "cell_type": "code",
      "metadata": {
        "id": "P2RX2MwfUArM",
        "colab": {
          "base_uri": "https://localhost:8080/"
        },
        "outputId": "f2853198-c3c7-4a64-fd94-8ad1b28f01f4"
      },
      "source": [
        "df.isna().sum()"
      ],
      "execution_count": 35,
      "outputs": [
        {
          "output_type": "execute_result",
          "data": {
            "text/plain": [
              "from_date                                       0\n",
              "to_date                                         0\n",
              "remote_station_id                               0\n",
              "station                                         0\n",
              "full_fare                                       0\n",
              "senior_citizen_disabled                         0\n",
              "_7_day_ada_farecard_access_system_unlimited     0\n",
              "_30_day_ada_farecard_access_system_unlimited    0\n",
              "joint_rail_road_ticket                          0\n",
              "_7_day_unlimited                                0\n",
              "_30_day_unlimited                               0\n",
              "_14_day_reduced_fare_media_unlimited            0\n",
              "_1_day_unlimited                                0\n",
              "_14_day_unlimited                               0\n",
              "_7_day_express_bus_pass                         0\n",
              "transit_check_metrocard                         0\n",
              "lib_special_senior                              0\n",
              "rail_road_unlimited_no_trade                    0\n",
              "transit_check_metrocard_annual_metrocard        0\n",
              "mail_and_ride_easy_pay_express                  0\n",
              "mail_and_ride_unlimited                         0\n",
              "path_2_trip                                     0\n",
              "airtrain_full_fare                              0\n",
              "airtrain_30_day                                 0\n",
              "airtrain_10_trip                                0\n",
              "airtrain_monthly                                0\n",
              "dtype: int64"
            ]
          },
          "metadata": {},
          "execution_count": 35
        }
      ]
    },
    {
      "cell_type": "markdown",
      "metadata": {
        "id": "_yjNG9JkR42p"
      },
      "source": [
        "## Setup for EDA\n",
        "\n",
        "- Filling in empty values and dropping any null values. \n",
        "- Using a sample of 500"
      ]
    },
    {
      "cell_type": "code",
      "metadata": {
        "id": "R1r5zjNVegKy"
      },
      "source": [
        "df.fillna(0)\n",
        "df.dropna(inplace=True)\n",
        "df = df.sample(500)"
      ],
      "execution_count": 64,
      "outputs": []
    },
    {
      "cell_type": "markdown",
      "metadata": {
        "id": "4sPImT3JSFw4"
      },
      "source": [
        "## Removing all catagorical attributes "
      ]
    },
    {
      "cell_type": "code",
      "metadata": {
        "id": "9C64z8LkTw_K"
      },
      "source": [
        "numerical_data = df.select_dtypes(exclude=['object'])\n"
      ],
      "execution_count": 65,
      "outputs": []
    },
    {
      "cell_type": "code",
      "metadata": {
        "colab": {
          "base_uri": "https://localhost:8080/"
        },
        "id": "lsabTsrFbPqD",
        "outputId": "3c5e3741-c96e-47f7-fded-393437107447"
      },
      "source": [
        "numerical_data.info()"
      ],
      "execution_count": 66,
      "outputs": [
        {
          "output_type": "stream",
          "name": "stdout",
          "text": [
            "<class 'pandas.core.frame.DataFrame'>\n",
            "Int64Index: 500 entries, 200033 to 131688\n",
            "Data columns (total 22 columns):\n",
            " #   Column                                       Non-Null Count  Dtype  \n",
            "---  ------                                       --------------  -----  \n",
            " 0   Full Fare                                    500 non-null    int64  \n",
            " 1   Senior Citizen / Disabled                    500 non-null    int64  \n",
            " 2   7 Day ADA Farecard Access System Unlimited   500 non-null    int64  \n",
            " 3   30 Day ADA Farecard Access System Unlimited  500 non-null    int64  \n",
            " 4   Joint Rail Road Ticket                       500 non-null    int64  \n",
            " 5   7 Day Unlimited                              500 non-null    int64  \n",
            " 6   30 Day Unlimited                             500 non-null    int64  \n",
            " 7   14 Day Reduced Fare Media Unlimited          500 non-null    float64\n",
            " 8   1 Day Unlimited                              500 non-null    float64\n",
            " 9   14 Day Unlimited                             500 non-null    float64\n",
            " 10  7 Day Express Bus Pass                       500 non-null    int64  \n",
            " 11  Transit Check Metrocard                      500 non-null    int64  \n",
            " 12  LIB Special Senior                           500 non-null    int64  \n",
            " 13  Rail Road Unlimited No Trade                 500 non-null    int64  \n",
            " 14  Transit Check Metrocard Annual Metrocard     500 non-null    int64  \n",
            " 15  Mail and Ride Easy Pay Express               500 non-null    int64  \n",
            " 16  Mail and Ride Unlimited                      500 non-null    int64  \n",
            " 17  Path 2 Trip                                  500 non-null    int64  \n",
            " 18  Airtran Full Fare                            500 non-null    int64  \n",
            " 19  Airtran 30 Day                               500 non-null    int64  \n",
            " 20  Airtran 10 Trip                              500 non-null    int64  \n",
            " 21  Airtran Monthly                              500 non-null    int64  \n",
            "dtypes: float64(3), int64(19)\n",
            "memory usage: 89.8 KB\n"
          ]
        }
      ]
    },
    {
      "cell_type": "code",
      "metadata": {
        "id": "f5F521BzTx7q"
      },
      "source": [
        "numerical_data_scaled = scale(numerical_data)\n",
        "pca = PCA(n_components=2)\n",
        "pca_df = pca.fit_transform(numerical_data_scaled)"
      ],
      "execution_count": 67,
      "outputs": []
    },
    {
      "cell_type": "code",
      "metadata": {
        "id": "hIuWnKn7TzZs",
        "colab": {
          "base_uri": "https://localhost:8080/"
        },
        "outputId": "532ac0f0-e438-4d18-b076-3e1702d5ef6b"
      },
      "source": [
        "pca_df.shape"
      ],
      "execution_count": 68,
      "outputs": [
        {
          "output_type": "execute_result",
          "data": {
            "text/plain": [
              "(500, 2)"
            ]
          },
          "metadata": {},
          "execution_count": 68
        }
      ]
    },
    {
      "cell_type": "code",
      "metadata": {
        "id": "ODlLpCAdWIfM",
        "colab": {
          "base_uri": "https://localhost:8080/",
          "height": 282
        },
        "outputId": "ec39ec64-7624-45fc-d15c-2888464f203a"
      },
      "source": [
        "plt.scatter(pca_df[:,0], pca_df[:,1])"
      ],
      "execution_count": 69,
      "outputs": [
        {
          "output_type": "execute_result",
          "data": {
            "text/plain": [
              "<matplotlib.collections.PathCollection at 0x7fb70ad10b50>"
            ]
          },
          "metadata": {},
          "execution_count": 69
        },
        {
          "output_type": "display_data",
          "data": {
            "image/png": "[encoded data removed]",
            "text/plain": [
              "<Figure size 432x288 with 1 Axes>"
            ]
          },
          "metadata": {
            "needs_background": "light"
          }
        }
      ]
    },
    {
      "cell_type": "markdown",
      "metadata": {
        "id": "FbRXbP0XSRaw"
      },
      "source": [
        "## Another try at PCA with less features"
      ]
    },
    {
      "cell_type": "code",
      "metadata": {
        "id": "t-apOiWzcDY0"
      },
      "source": [
        "numeric_columns = ['Full Fare', 'Airtran Full Fare','Joint Rail Road Ticket', '30 Day Unlimited', 'Path 2 Trip']\n",
        "numerical_data_2 = df[numeric_columns]"
      ],
      "execution_count": 75,
      "outputs": []
    },
    {
      "cell_type": "code",
      "metadata": {
        "id": "0JIn8lUtceDo"
      },
      "source": [
        ""
      ],
      "execution_count": 75,
      "outputs": []
    },
    {
      "cell_type": "code",
      "metadata": {
        "colab": {
          "base_uri": "https://localhost:8080/"
        },
        "id": "6ai8oWpMcjRC",
        "outputId": "bf8fe833-2303-42b1-c647-3ce44601ba5f"
      },
      "source": [
        "numerical_data_2.info()"
      ],
      "execution_count": 76,
      "outputs": [
        {
          "output_type": "stream",
          "name": "stdout",
          "text": [
            "<class 'pandas.core.frame.DataFrame'>\n",
            "Int64Index: 500 entries, 200033 to 131688\n",
            "Data columns (total 5 columns):\n",
            " #   Column                  Non-Null Count  Dtype\n",
            "---  ------                  --------------  -----\n",
            " 0   Full Fare               500 non-null    int64\n",
            " 1   Airtran Full Fare       500 non-null    int64\n",
            " 2   Joint Rail Road Ticket  500 non-null    int64\n",
            " 3   30 Day Unlimited        500 non-null    int64\n",
            " 4   Path 2 Trip             500 non-null    int64\n",
            "dtypes: int64(5)\n",
            "memory usage: 23.4 KB\n"
          ]
        }
      ]
    },
    {
      "cell_type": "code",
      "metadata": {
        "id": "Jeijhnh5cwCJ"
      },
      "source": [
        "numerical_data_scaled_2 = scale(numerical_data_2)\n",
        "pca = PCA(n_components=2)\n",
        "pca_df = pca.fit_transform(numerical_data_scaled_2)"
      ],
      "execution_count": 77,
      "outputs": []
    },
    {
      "cell_type": "code",
      "metadata": {
        "colab": {
          "base_uri": "https://localhost:8080/"
        },
        "id": "nOT_fUaSc4xi",
        "outputId": "462fd2cc-f221-4a3f-cebe-45c2b43ef9d4"
      },
      "source": [
        "pca_df.shape"
      ],
      "execution_count": 78,
      "outputs": [
        {
          "output_type": "execute_result",
          "data": {
            "text/plain": [
              "(500, 2)"
            ]
          },
          "metadata": {},
          "execution_count": 78
        }
      ]
    },
    {
      "cell_type": "code",
      "metadata": {
        "colab": {
          "base_uri": "https://localhost:8080/",
          "height": 282
        },
        "id": "uMXw4XyYc2qW",
        "outputId": "adde589d-24f0-4f40-f6fd-a5f2f708633b"
      },
      "source": [
        "plt.scatter(pca_df[:,0], pca_df[:,1])"
      ],
      "execution_count": 79,
      "outputs": [
        {
          "output_type": "execute_result",
          "data": {
            "text/plain": [
              "<matplotlib.collections.PathCollection at 0x7fb70a80db10>"
            ]
          },
          "metadata": {},
          "execution_count": 79
        },
        {
          "output_type": "display_data",
          "data": {
            "image/png": "[encoded data removed]",
            "text/plain": [
              "<Figure size 432x288 with 1 Axes>"
            ]
          },
          "metadata": {
            "needs_background": "light"
          }
        }
      ]
    },
    {
      "cell_type": "code",
      "metadata": {
        "colab": {
          "base_uri": "https://localhost:8080/"
        },
        "id": "xVpe0upBc63g",
        "outputId": "3bed21fa-3e61-49ef-e857-88555c02113c"
      },
      "source": [
        "len(df['Station'].value_counts())"
      ],
      "execution_count": 80,
      "outputs": [
        {
          "output_type": "execute_result",
          "data": {
            "text/plain": [
              "308"
            ]
          },
          "metadata": {},
          "execution_count": 80
        }
      ]
    },
    {
      "cell_type": "code",
      "metadata": {
        "id": "2YmBUEDRePCt"
      },
      "source": [
        "unique_stations = list(df[\"Station\"].unique())\n",
        "list_of_stations = list(df[\"Station\"].values)"
      ],
      "execution_count": 81,
      "outputs": []
    },
    {
      "cell_type": "code",
      "metadata": {
        "colab": {
          "base_uri": "https://localhost:8080/"
        },
        "id": "j6rm5XQQSewb",
        "outputId": "194307af-a755-4d71-bf7d-cba2dda0b5b1"
      },
      "source": [
        "df['Station'].value_counts()[:3]"
      ],
      "execution_count": 98,
      "outputs": [
        {
          "output_type": "execute_result",
          "data": {
            "text/plain": [
              "39TH AVENUE & 31ST STREET    7\n",
              "34TH STREET & 8TH AVENUE     4\n",
              "SENECA AVENUE-PALMETTO ST    4\n",
              "Name: Station, dtype: int64"
            ]
          },
          "metadata": {},
          "execution_count": 98
        }
      ]
    },
    {
      "cell_type": "code",
      "metadata": {
        "id": "QwB-5soZTw8J"
      },
      "source": [
        ""
      ],
      "execution_count": 108,
      "outputs": []
    },
    {
      "cell_type": "markdown",
      "metadata": {
        "id": "xG5hyKgnSzFU"
      },
      "source": [
        ""
      ]
    },
    {
      "cell_type": "markdown",
      "metadata": {
        "id": "jnabOJ86SXkP"
      },
      "source": [
        "## PCA plot of two PCA components and label using stations "
      ]
    },
    {
      "cell_type": "code",
      "metadata": {
        "id": "1owx3EIdeZwa"
      },
      "source": [
        "station_index = [unique_stations.index(value) for value in list_of_stations]\n",
        "smaller_station_index =[unique_stations_3.index(value) for value in list_of_stations_3]"
      ],
      "execution_count": 110,
      "outputs": []
    },
    {
      "cell_type": "code",
      "metadata": {
        "colab": {
          "base_uri": "https://localhost:8080/",
          "height": 585
        },
        "id": "Bq7E3C6Yev8z",
        "outputId": "df95dd02-d3c0-4074-db5e-14f76275ecab"
      },
      "source": [
        "plt.figure(figsize=(15,8))\n",
        "sns.scatterplot(pca_df[:,0], pca_df[:,1], hue=station_index)\n",
        "plt.title('PCA')\n",
        "plt.xlabel('PCA1')\n",
        "plt.ylabel('PCA2')\n",
        "plt.legend(title='Stations')"
      ],
      "execution_count": 83,
      "outputs": [
        {
          "output_type": "stream",
          "name": "stderr",
          "text": [
            "/usr/local/lib/python3.7/dist-packages/seaborn/_decorators.py:43: FutureWarning: Pass the following variables as keyword args: x, y. From version 0.12, the only valid positional argument will be `data`, and passing other arguments without an explicit keyword will result in an error or misinterpretation.\n",
            "  FutureWarning\n"
          ]
        },
        {
          "output_type": "execute_result",
          "data": {
            "text/plain": [
              "<matplotlib.legend.Legend at 0x7fb70cd55590>"
            ]
          },
          "metadata": {},
          "execution_count": 83
        },
        {
          "output_type": "display_data",
          "data": {
            "image/png": "[encoded data removed]",
            "text/plain": [
              "<Figure size 1080x576 with 1 Axes>"
            ]
          },
          "metadata": {
            "needs_background": "light"
          }
        }
      ]
    },
    {
      "cell_type": "code",
      "metadata": {
        "id": "oe8h7W1HfLew"
      },
      "source": [
        ""
      ],
      "execution_count": 114,
      "outputs": []
    },
    {
      "cell_type": "code",
      "metadata": {
        "id": "sqoSwsVDqyq9",
        "colab": {
          "base_uri": "https://localhost:8080/"
        },
        "outputId": "077e2f8c-d0c4-489d-c287-7c73312c0fd0"
      },
      "source": [
        "top_3_station_df =df[df['Station'].isin(['39TH AVENUE & 31ST STREET', '34TH STREET & 8TH AVENUE', 'SENECA AVENUE-PALMETTO ST'])]\n",
        "print(len(top_3_station_df))\n",
        "numerical_data = top_3_station_df.select_dtypes(exclude=['object'])\n",
        "numeric_columns = ['Full Fare', 'Airtran Full Fare','Joint Rail Road Ticket', '30 Day Unlimited', 'Path 2 Trip']\n",
        "numerical_data_2 = top_3_station_df[numeric_columns]\n",
        "\n",
        "\n",
        "\n",
        "\n",
        "unique_stations_3 = list(top_3_station_df[\"Station\"].unique())\n",
        "list_of_stations_3 = list(top_3_station_df[\"Station\"].values)\n",
        "\n"
      ],
      "execution_count": 123,
      "outputs": [
        {
          "output_type": "stream",
          "name": "stdout",
          "text": [
            "15\n"
          ]
        }
      ]
    },
    {
      "cell_type": "code",
      "metadata": {
        "id": "aN_K4xcYqytW"
      },
      "source": [
        "\n",
        "numerical_data_scaled_2 = scale(numerical_data_2)\n",
        "pca = PCA(n_components=2)\n",
        "pca_df = pca.fit_transform(numerical_data_scaled_2)"
      ],
      "execution_count": 124,
      "outputs": []
    },
    {
      "cell_type": "code",
      "metadata": {
        "id": "WAscpGJyqyv2"
      },
      "source": [
        ""
      ],
      "execution_count": 124,
      "outputs": []
    },
    {
      "cell_type": "code",
      "metadata": {
        "id": "U2lmjaV0qyw4",
        "colab": {
          "base_uri": "https://localhost:8080/",
          "height": 585
        },
        "outputId": "33fe1a81-4f00-4a34-b910-466815ee605a"
      },
      "source": [
        "plt.figure(figsize=(15,8))\n",
        "sns.scatterplot(pca_df[:,0], pca_df[:,1], hue=smaller_station_index)\n",
        "plt.title('PCA')\n",
        "plt.xlabel('PCA1')\n",
        "plt.ylabel('PCA2')\n",
        "plt.legend(title='Stations')"
      ],
      "execution_count": 125,
      "outputs": [
        {
          "output_type": "stream",
          "name": "stderr",
          "text": [
            "/usr/local/lib/python3.7/dist-packages/seaborn/_decorators.py:43: FutureWarning: Pass the following variables as keyword args: x, y. From version 0.12, the only valid positional argument will be `data`, and passing other arguments without an explicit keyword will result in an error or misinterpretation.\n",
            "  FutureWarning\n"
          ]
        },
        {
          "output_type": "execute_result",
          "data": {
            "text/plain": [
              "<matplotlib.legend.Legend at 0x7fb70a5e90d0>"
            ]
          },
          "metadata": {},
          "execution_count": 125
        },
        {
          "output_type": "display_data",
          "data": {
            "image/png": "[encoded data removed]",
            "text/plain": [
              "<Figure size 1080x576 with 1 Axes>"
            ]
          },
          "metadata": {
            "needs_background": "light"
          }
        }
      ]
    },
    {
      "cell_type": "code",
      "metadata": {
        "id": "wn8tf7MZq2Ro"
      },
      "source": [
        ""
      ],
      "execution_count": 125,
      "outputs": []
    }
  ]
}