{
  "nbformat": 4,
  "nbformat_minor": 0,
  "metadata": {
    "colab": {
      "name": "Cars_Data_Assignment.ipynb",
      "provenance": [],
      "toc_visible": true,
      "authorship_tag": "ABX9TyPnAE0LydhuwuEXrv1wg+6T",
      "include_colab_link": true
    },
    "kernelspec": {
      "name": "python3",
      "display_name": "Python 3"
    },
    "language_info": {
      "name": "python"
    }
  },
  "cells": [
    {
      "cell_type": "markdown",
      "metadata": {
        "id": "view-in-github",
        "colab_type": "text"
      },
      "source": [
        "<a href=\"https://colab.research.google.com/github/TyronSamaroo/Visual_Analytics/blob/main/Cars_Data_Assignment.ipynb\" target=\"_parent\"><img src=\"https://colab.research.google.com/assets/colab-badge.svg\" alt=\"Open In Colab\"/></a>"
      ]
    },
    {
      "cell_type": "code",
      "metadata": {
        "id": "qhdV_RhJ8VgC"
      },
      "source": [
        "from urllib.request import urlretrieve\n",
        "import pandas as pd\n",
        "import numpy as np\n",
        "import seaborn as sns\n",
        "import matplotlib.pyplot as plt"
      ],
      "execution_count": 1,
      "outputs": []
    },
    {
      "cell_type": "code",
      "metadata": {
        "id": "8nr9tws69O9M"
      },
      "source": [
        "data = \"https://archive.ics.uci.edu/ml/machine-learning-databases/autos/imports-85.data\"\n",
        "name = \"https://archive.ics.uci.edu/ml/machine-learning-databases/autos/imports-85.names\""
      ],
      "execution_count": 2,
      "outputs": []
    },
    {
      "cell_type": "code",
      "metadata": {
        "colab": {
          "base_uri": "https://localhost:8080/"
        },
        "id": "dI8vulT09m7q",
        "outputId": "19b1a611-283f-49d6-ba73-1a1b671a8e42"
      },
      "source": [
        "urlretrieve(data, 'cars.csv')\n",
        "urlretrieve(name, 'name.name')\n"
      ],
      "execution_count": 3,
      "outputs": [
        {
          "output_type": "execute_result",
          "data": {
            "text/plain": [
              "('name.name', <http.client.HTTPMessage at 0x7f2faa6917d0>)"
            ]
          },
          "metadata": {},
          "execution_count": 3
        }
      ]
    },
    {
      "cell_type": "code",
      "metadata": {
        "id": "BXbKDbBR7Bx4"
      },
      "source": [
        "raw = pd.read_csv('cars.csv')"
      ],
      "execution_count": 4,
      "outputs": []
    },
    {
      "cell_type": "code",
      "metadata": {
        "colab": {
          "base_uri": "https://localhost:8080/",
          "height": 275
        },
        "id": "ojyWS_8H7Eo2",
        "outputId": "3bfb31bf-b473-4f22-aea5-36cbfc7f4de1"
      },
      "source": [
        "raw.head()"
      ],
      "execution_count": 5,
      "outputs": [
        {
          "output_type": "execute_result",
          "data": {
            "text/html": [
              "<div>\n",
              "<style scoped>\n",
              "    .dataframe tbody tr th:only-of-type {\n",
              "        vertical-align: middle;\n",
              "    }\n",
              "\n",
              "    .dataframe tbody tr th {\n",
              "        vertical-align: top;\n",
              "    }\n",
              "\n",
              "    .dataframe thead th {\n",
              "        text-align: right;\n",
              "    }\n",
              "</style>\n",
              "<table border=\"1\" class=\"dataframe\">\n",
              "  <thead>\n",
              "    <tr style=\"text-align: right;\">\n",
              "      <th></th>\n",
              "      <th>3</th>\n",
              "      <th>?</th>\n",
              "      <th>alfa-romero</th>\n",
              "      <th>gas</th>\n",
              "      <th>std</th>\n",
              "      <th>two</th>\n",
              "      <th>convertible</th>\n",
              "      <th>rwd</th>\n",
              "      <th>front</th>\n",
              "      <th>88.60</th>\n",
              "      <th>168.80</th>\n",
              "      <th>64.10</th>\n",
              "      <th>48.80</th>\n",
              "      <th>2548</th>\n",
              "      <th>dohc</th>\n",
              "      <th>four</th>\n",
              "      <th>130</th>\n",
              "      <th>mpfi</th>\n",
              "      <th>3.47</th>\n",
              "      <th>2.68</th>\n",
              "      <th>9.00</th>\n",
              "      <th>111</th>\n",
              "      <th>5000</th>\n",
              "      <th>21</th>\n",
              "      <th>27</th>\n",
              "      <th>13495</th>\n",
              "    </tr>\n",
              "  </thead>\n",
              "  <tbody>\n",
              "    <tr>\n",
              "      <th>0</th>\n",
              "      <td>3</td>\n",
              "      <td>?</td>\n",
              "      <td>alfa-romero</td>\n",
              "      <td>gas</td>\n",
              "      <td>std</td>\n",
              "      <td>two</td>\n",
              "      <td>convertible</td>\n",
              "      <td>rwd</td>\n",
              "      <td>front</td>\n",
              "      <td>88.6</td>\n",
              "      <td>168.8</td>\n",
              "      <td>64.1</td>\n",
              "      <td>48.8</td>\n",
              "      <td>2548</td>\n",
              "      <td>dohc</td>\n",
              "      <td>four</td>\n",
              "      <td>130</td>\n",
              "      <td>mpfi</td>\n",
              "      <td>3.47</td>\n",
              "      <td>2.68</td>\n",
              "      <td>9.0</td>\n",
              "      <td>111</td>\n",
              "      <td>5000</td>\n",
              "      <td>21</td>\n",
              "      <td>27</td>\n",
              "      <td>16500</td>\n",
              "    </tr>\n",
              "    <tr>\n",
              "      <th>1</th>\n",
              "      <td>1</td>\n",
              "      <td>?</td>\n",
              "      <td>alfa-romero</td>\n",
              "      <td>gas</td>\n",
              "      <td>std</td>\n",
              "      <td>two</td>\n",
              "      <td>hatchback</td>\n",
              "      <td>rwd</td>\n",
              "      <td>front</td>\n",
              "      <td>94.5</td>\n",
              "      <td>171.2</td>\n",
              "      <td>65.5</td>\n",
              "      <td>52.4</td>\n",
              "      <td>2823</td>\n",
              "      <td>ohcv</td>\n",
              "      <td>six</td>\n",
              "      <td>152</td>\n",
              "      <td>mpfi</td>\n",
              "      <td>2.68</td>\n",
              "      <td>3.47</td>\n",
              "      <td>9.0</td>\n",
              "      <td>154</td>\n",
              "      <td>5000</td>\n",
              "      <td>19</td>\n",
              "      <td>26</td>\n",
              "      <td>16500</td>\n",
              "    </tr>\n",
              "    <tr>\n",
              "      <th>2</th>\n",
              "      <td>2</td>\n",
              "      <td>164</td>\n",
              "      <td>audi</td>\n",
              "      <td>gas</td>\n",
              "      <td>std</td>\n",
              "      <td>four</td>\n",
              "      <td>sedan</td>\n",
              "      <td>fwd</td>\n",
              "      <td>front</td>\n",
              "      <td>99.8</td>\n",
              "      <td>176.6</td>\n",
              "      <td>66.2</td>\n",
              "      <td>54.3</td>\n",
              "      <td>2337</td>\n",
              "      <td>ohc</td>\n",
              "      <td>four</td>\n",
              "      <td>109</td>\n",
              "      <td>mpfi</td>\n",
              "      <td>3.19</td>\n",
              "      <td>3.40</td>\n",
              "      <td>10.0</td>\n",
              "      <td>102</td>\n",
              "      <td>5500</td>\n",
              "      <td>24</td>\n",
              "      <td>30</td>\n",
              "      <td>13950</td>\n",
              "    </tr>\n",
              "    <tr>\n",
              "      <th>3</th>\n",
              "      <td>2</td>\n",
              "      <td>164</td>\n",
              "      <td>audi</td>\n",
              "      <td>gas</td>\n",
              "      <td>std</td>\n",
              "      <td>four</td>\n",
              "      <td>sedan</td>\n",
              "      <td>4wd</td>\n",
              "      <td>front</td>\n",
              "      <td>99.4</td>\n",
              "      <td>176.6</td>\n",
              "      <td>66.4</td>\n",
              "      <td>54.3</td>\n",
              "      <td>2824</td>\n",
              "      <td>ohc</td>\n",
              "      <td>five</td>\n",
              "      <td>136</td>\n",
              "      <td>mpfi</td>\n",
              "      <td>3.19</td>\n",
              "      <td>3.40</td>\n",
              "      <td>8.0</td>\n",
              "      <td>115</td>\n",
              "      <td>5500</td>\n",
              "      <td>18</td>\n",
              "      <td>22</td>\n",
              "      <td>17450</td>\n",
              "    </tr>\n",
              "    <tr>\n",
              "      <th>4</th>\n",
              "      <td>2</td>\n",
              "      <td>?</td>\n",
              "      <td>audi</td>\n",
              "      <td>gas</td>\n",
              "      <td>std</td>\n",
              "      <td>two</td>\n",
              "      <td>sedan</td>\n",
              "      <td>fwd</td>\n",
              "      <td>front</td>\n",
              "      <td>99.8</td>\n",
              "      <td>177.3</td>\n",
              "      <td>66.3</td>\n",
              "      <td>53.1</td>\n",
              "      <td>2507</td>\n",
              "      <td>ohc</td>\n",
              "      <td>five</td>\n",
              "      <td>136</td>\n",
              "      <td>mpfi</td>\n",
              "      <td>3.19</td>\n",
              "      <td>3.40</td>\n",
              "      <td>8.5</td>\n",
              "      <td>110</td>\n",
              "      <td>5500</td>\n",
              "      <td>19</td>\n",
              "      <td>25</td>\n",
              "      <td>15250</td>\n",
              "    </tr>\n",
              "  </tbody>\n",
              "</table>\n",
              "</div>"
            ],
            "text/plain": [
              "   3    ?  alfa-romero  gas  std   two  ...  9.00  111  5000  21  27  13495\n",
              "0  3    ?  alfa-romero  gas  std   two  ...   9.0  111  5000  21  27  16500\n",
              "1  1    ?  alfa-romero  gas  std   two  ...   9.0  154  5000  19  26  16500\n",
              "2  2  164         audi  gas  std  four  ...  10.0  102  5500  24  30  13950\n",
              "3  2  164         audi  gas  std  four  ...   8.0  115  5500  18  22  17450\n",
              "4  2    ?         audi  gas  std   two  ...   8.5  110  5500  19  25  15250\n",
              "\n",
              "[5 rows x 26 columns]"
            ]
          },
          "metadata": {},
          "execution_count": 5
        }
      ]
    },
    {
      "cell_type": "code",
      "metadata": {
        "id": "hFCZLG3s55EO"
      },
      "source": [
        "col_names = \"make,fuel-type,body-style,curb-weight,num-of-cylinders,engine-size,horsepower,city-mpg,highway-mpg,price\".split(',')"
      ],
      "execution_count": 6,
      "outputs": []
    },
    {
      "cell_type": "code",
      "metadata": {
        "id": "SUpbK9yB6Jjl"
      },
      "source": [
        "select_columns = [2,3,6,13,15,16,21,23,24,25]"
      ],
      "execution_count": 7,
      "outputs": []
    },
    {
      "cell_type": "code",
      "metadata": {
        "id": "bmX0WrLF924W"
      },
      "source": [
        "df = pd.read_csv('cars.csv',usecols=select_columns, names=col_names)"
      ],
      "execution_count": 8,
      "outputs": []
    },
    {
      "cell_type": "code",
      "metadata": {
        "colab": {
          "base_uri": "https://localhost:8080/",
          "height": 292
        },
        "id": "lKZoxfB45yHA",
        "outputId": "97991fc5-34b1-4162-92f3-f85797e0c40f"
      },
      "source": [
        "df.head()"
      ],
      "execution_count": 9,
      "outputs": [
        {
          "output_type": "execute_result",
          "data": {
            "text/html": [
              "<div>\n",
              "<style scoped>\n",
              "    .dataframe tbody tr th:only-of-type {\n",
              "        vertical-align: middle;\n",
              "    }\n",
              "\n",
              "    .dataframe tbody tr th {\n",
              "        vertical-align: top;\n",
              "    }\n",
              "\n",
              "    .dataframe thead th {\n",
              "        text-align: right;\n",
              "    }\n",
              "</style>\n",
              "<table border=\"1\" class=\"dataframe\">\n",
              "  <thead>\n",
              "    <tr style=\"text-align: right;\">\n",
              "      <th></th>\n",
              "      <th>make</th>\n",
              "      <th>fuel-type</th>\n",
              "      <th>body-style</th>\n",
              "      <th>curb-weight</th>\n",
              "      <th>num-of-cylinders</th>\n",
              "      <th>engine-size</th>\n",
              "      <th>horsepower</th>\n",
              "      <th>city-mpg</th>\n",
              "      <th>highway-mpg</th>\n",
              "      <th>price</th>\n",
              "    </tr>\n",
              "  </thead>\n",
              "  <tbody>\n",
              "    <tr>\n",
              "      <th>0</th>\n",
              "      <td>alfa-romero</td>\n",
              "      <td>gas</td>\n",
              "      <td>convertible</td>\n",
              "      <td>2548</td>\n",
              "      <td>four</td>\n",
              "      <td>130</td>\n",
              "      <td>111</td>\n",
              "      <td>21</td>\n",
              "      <td>27</td>\n",
              "      <td>13495</td>\n",
              "    </tr>\n",
              "    <tr>\n",
              "      <th>1</th>\n",
              "      <td>alfa-romero</td>\n",
              "      <td>gas</td>\n",
              "      <td>convertible</td>\n",
              "      <td>2548</td>\n",
              "      <td>four</td>\n",
              "      <td>130</td>\n",
              "      <td>111</td>\n",
              "      <td>21</td>\n",
              "      <td>27</td>\n",
              "      <td>16500</td>\n",
              "    </tr>\n",
              "    <tr>\n",
              "      <th>2</th>\n",
              "      <td>alfa-romero</td>\n",
              "      <td>gas</td>\n",
              "      <td>hatchback</td>\n",
              "      <td>2823</td>\n",
              "      <td>six</td>\n",
              "      <td>152</td>\n",
              "      <td>154</td>\n",
              "      <td>19</td>\n",
              "      <td>26</td>\n",
              "      <td>16500</td>\n",
              "    </tr>\n",
              "    <tr>\n",
              "      <th>3</th>\n",
              "      <td>audi</td>\n",
              "      <td>gas</td>\n",
              "      <td>sedan</td>\n",
              "      <td>2337</td>\n",
              "      <td>four</td>\n",
              "      <td>109</td>\n",
              "      <td>102</td>\n",
              "      <td>24</td>\n",
              "      <td>30</td>\n",
              "      <td>13950</td>\n",
              "    </tr>\n",
              "    <tr>\n",
              "      <th>4</th>\n",
              "      <td>audi</td>\n",
              "      <td>gas</td>\n",
              "      <td>sedan</td>\n",
              "      <td>2824</td>\n",
              "      <td>five</td>\n",
              "      <td>136</td>\n",
              "      <td>115</td>\n",
              "      <td>18</td>\n",
              "      <td>22</td>\n",
              "      <td>17450</td>\n",
              "    </tr>\n",
              "  </tbody>\n",
              "</table>\n",
              "</div>"
            ],
            "text/plain": [
              "          make fuel-type   body-style  ...  city-mpg highway-mpg  price\n",
              "0  alfa-romero       gas  convertible  ...        21          27  13495\n",
              "1  alfa-romero       gas  convertible  ...        21          27  16500\n",
              "2  alfa-romero       gas    hatchback  ...        19          26  16500\n",
              "3         audi       gas        sedan  ...        24          30  13950\n",
              "4         audi       gas        sedan  ...        18          22  17450\n",
              "\n",
              "[5 rows x 10 columns]"
            ]
          },
          "metadata": {},
          "execution_count": 9
        }
      ]
    },
    {
      "cell_type": "code",
      "metadata": {
        "colab": {
          "base_uri": "https://localhost:8080/"
        },
        "id": "S5jBpMqT_VDE",
        "outputId": "6203086d-72de-47dd-a06e-903cb71c1184"
      },
      "source": [
        "df.isna().any()"
      ],
      "execution_count": 10,
      "outputs": [
        {
          "output_type": "execute_result",
          "data": {
            "text/plain": [
              "make                False\n",
              "fuel-type           False\n",
              "body-style          False\n",
              "curb-weight         False\n",
              "num-of-cylinders    False\n",
              "engine-size         False\n",
              "horsepower          False\n",
              "city-mpg            False\n",
              "highway-mpg         False\n",
              "price               False\n",
              "dtype: bool"
            ]
          },
          "metadata": {},
          "execution_count": 10
        }
      ]
    },
    {
      "cell_type": "code",
      "metadata": {
        "colab": {
          "base_uri": "https://localhost:8080/"
        },
        "id": "_J5eGVWM8li5",
        "outputId": "b0ea5808-b127-4f9f-e27f-537fbc5eff0a"
      },
      "source": [
        "df.info()"
      ],
      "execution_count": 11,
      "outputs": [
        {
          "output_type": "stream",
          "name": "stdout",
          "text": [
            "<class 'pandas.core.frame.DataFrame'>\n",
            "RangeIndex: 205 entries, 0 to 204\n",
            "Data columns (total 10 columns):\n",
            " #   Column            Non-Null Count  Dtype \n",
            "---  ------            --------------  ----- \n",
            " 0   make              205 non-null    object\n",
            " 1   fuel-type         205 non-null    object\n",
            " 2   body-style        205 non-null    object\n",
            " 3   curb-weight       205 non-null    int64 \n",
            " 4   num-of-cylinders  205 non-null    object\n",
            " 5   engine-size       205 non-null    int64 \n",
            " 6   horsepower        205 non-null    object\n",
            " 7   city-mpg          205 non-null    int64 \n",
            " 8   highway-mpg       205 non-null    int64 \n",
            " 9   price             205 non-null    object\n",
            "dtypes: int64(4), object(6)\n",
            "memory usage: 16.1+ KB\n"
          ]
        }
      ]
    },
    {
      "cell_type": "code",
      "metadata": {
        "id": "Je3IhJCj95oP"
      },
      "source": [
        ""
      ],
      "execution_count": 11,
      "outputs": []
    },
    {
      "cell_type": "code",
      "metadata": {
        "id": "O7psnnfO9owZ"
      },
      "source": [
        "res =  pd.DataFrame()\n",
        "for col in col_names:\n",
        "    res = pd.concat([res ,df.loc[df[col]== '?', :]])"
      ],
      "execution_count": 12,
      "outputs": []
    },
    {
      "cell_type": "code",
      "metadata": {
        "colab": {
          "base_uri": "https://localhost:8080/",
          "height": 272
        },
        "id": "5Qpcyjlm-anF",
        "outputId": "6ac2acc8-13d0-44dd-a48b-383046614eba"
      },
      "source": [
        "res"
      ],
      "execution_count": 13,
      "outputs": [
        {
          "output_type": "execute_result",
          "data": {
            "text/html": [
              "<div>\n",
              "<style scoped>\n",
              "    .dataframe tbody tr th:only-of-type {\n",
              "        vertical-align: middle;\n",
              "    }\n",
              "\n",
              "    .dataframe tbody tr th {\n",
              "        vertical-align: top;\n",
              "    }\n",
              "\n",
              "    .dataframe thead th {\n",
              "        text-align: right;\n",
              "    }\n",
              "</style>\n",
              "<table border=\"1\" class=\"dataframe\">\n",
              "  <thead>\n",
              "    <tr style=\"text-align: right;\">\n",
              "      <th></th>\n",
              "      <th>make</th>\n",
              "      <th>fuel-type</th>\n",
              "      <th>body-style</th>\n",
              "      <th>curb-weight</th>\n",
              "      <th>num-of-cylinders</th>\n",
              "      <th>engine-size</th>\n",
              "      <th>horsepower</th>\n",
              "      <th>city-mpg</th>\n",
              "      <th>highway-mpg</th>\n",
              "      <th>price</th>\n",
              "    </tr>\n",
              "  </thead>\n",
              "  <tbody>\n",
              "    <tr>\n",
              "      <th>130</th>\n",
              "      <td>renault</td>\n",
              "      <td>gas</td>\n",
              "      <td>wagon</td>\n",
              "      <td>2579</td>\n",
              "      <td>four</td>\n",
              "      <td>132</td>\n",
              "      <td>?</td>\n",
              "      <td>23</td>\n",
              "      <td>31</td>\n",
              "      <td>9295</td>\n",
              "    </tr>\n",
              "    <tr>\n",
              "      <th>131</th>\n",
              "      <td>renault</td>\n",
              "      <td>gas</td>\n",
              "      <td>hatchback</td>\n",
              "      <td>2460</td>\n",
              "      <td>four</td>\n",
              "      <td>132</td>\n",
              "      <td>?</td>\n",
              "      <td>23</td>\n",
              "      <td>31</td>\n",
              "      <td>9895</td>\n",
              "    </tr>\n",
              "    <tr>\n",
              "      <th>9</th>\n",
              "      <td>audi</td>\n",
              "      <td>gas</td>\n",
              "      <td>hatchback</td>\n",
              "      <td>3053</td>\n",
              "      <td>five</td>\n",
              "      <td>131</td>\n",
              "      <td>160</td>\n",
              "      <td>16</td>\n",
              "      <td>22</td>\n",
              "      <td>?</td>\n",
              "    </tr>\n",
              "    <tr>\n",
              "      <th>44</th>\n",
              "      <td>isuzu</td>\n",
              "      <td>gas</td>\n",
              "      <td>sedan</td>\n",
              "      <td>1874</td>\n",
              "      <td>four</td>\n",
              "      <td>90</td>\n",
              "      <td>70</td>\n",
              "      <td>38</td>\n",
              "      <td>43</td>\n",
              "      <td>?</td>\n",
              "    </tr>\n",
              "    <tr>\n",
              "      <th>45</th>\n",
              "      <td>isuzu</td>\n",
              "      <td>gas</td>\n",
              "      <td>sedan</td>\n",
              "      <td>1909</td>\n",
              "      <td>four</td>\n",
              "      <td>90</td>\n",
              "      <td>70</td>\n",
              "      <td>38</td>\n",
              "      <td>43</td>\n",
              "      <td>?</td>\n",
              "    </tr>\n",
              "    <tr>\n",
              "      <th>129</th>\n",
              "      <td>porsche</td>\n",
              "      <td>gas</td>\n",
              "      <td>hatchback</td>\n",
              "      <td>3366</td>\n",
              "      <td>eight</td>\n",
              "      <td>203</td>\n",
              "      <td>288</td>\n",
              "      <td>17</td>\n",
              "      <td>28</td>\n",
              "      <td>?</td>\n",
              "    </tr>\n",
              "  </tbody>\n",
              "</table>\n",
              "</div>"
            ],
            "text/plain": [
              "        make fuel-type body-style  ...  city-mpg highway-mpg  price\n",
              "130  renault       gas      wagon  ...        23          31   9295\n",
              "131  renault       gas  hatchback  ...        23          31   9895\n",
              "9       audi       gas  hatchback  ...        16          22      ?\n",
              "44     isuzu       gas      sedan  ...        38          43      ?\n",
              "45     isuzu       gas      sedan  ...        38          43      ?\n",
              "129  porsche       gas  hatchback  ...        17          28      ?\n",
              "\n",
              "[6 rows x 10 columns]"
            ]
          },
          "metadata": {},
          "execution_count": 13
        }
      ]
    },
    {
      "cell_type": "code",
      "metadata": {
        "id": "hL9YoCOg-7ij"
      },
      "source": [
        "df_clean = df.drop(index=res.index)"
      ],
      "execution_count": 14,
      "outputs": []
    },
    {
      "cell_type": "code",
      "metadata": {
        "colab": {
          "base_uri": "https://localhost:8080/"
        },
        "id": "rV6Zf6JjBk5a",
        "outputId": "70db2485-be7a-436c-e4da-8ac2f5b23574"
      },
      "source": [
        "df_clean.info()"
      ],
      "execution_count": 15,
      "outputs": [
        {
          "output_type": "stream",
          "name": "stdout",
          "text": [
            "<class 'pandas.core.frame.DataFrame'>\n",
            "Int64Index: 199 entries, 0 to 204\n",
            "Data columns (total 10 columns):\n",
            " #   Column            Non-Null Count  Dtype \n",
            "---  ------            --------------  ----- \n",
            " 0   make              199 non-null    object\n",
            " 1   fuel-type         199 non-null    object\n",
            " 2   body-style        199 non-null    object\n",
            " 3   curb-weight       199 non-null    int64 \n",
            " 4   num-of-cylinders  199 non-null    object\n",
            " 5   engine-size       199 non-null    int64 \n",
            " 6   horsepower        199 non-null    object\n",
            " 7   city-mpg          199 non-null    int64 \n",
            " 8   highway-mpg       199 non-null    int64 \n",
            " 9   price             199 non-null    object\n",
            "dtypes: int64(4), object(6)\n",
            "memory usage: 17.1+ KB\n"
          ]
        }
      ]
    },
    {
      "cell_type": "code",
      "metadata": {
        "id": "vDOrRTa-_T_1"
      },
      "source": [
        "df_clean_index_reset = df_clean.reset_index(drop=True)"
      ],
      "execution_count": 16,
      "outputs": []
    },
    {
      "cell_type": "code",
      "metadata": {
        "colab": {
          "base_uri": "https://localhost:8080/",
          "height": 507
        },
        "id": "50J_W-3tBZC6",
        "outputId": "fa96785f-b4b4-4aa2-a8ee-886c4bb7b1a1"
      },
      "source": [
        "df_clean_index_reset"
      ],
      "execution_count": 17,
      "outputs": [
        {
          "output_type": "execute_result",
          "data": {
            "text/html": [
              "<div>\n",
              "<style scoped>\n",
              "    .dataframe tbody tr th:only-of-type {\n",
              "        vertical-align: middle;\n",
              "    }\n",
              "\n",
              "    .dataframe tbody tr th {\n",
              "        vertical-align: top;\n",
              "    }\n",
              "\n",
              "    .dataframe thead th {\n",
              "        text-align: right;\n",
              "    }\n",
              "</style>\n",
              "<table border=\"1\" class=\"dataframe\">\n",
              "  <thead>\n",
              "    <tr style=\"text-align: right;\">\n",
              "      <th></th>\n",
              "      <th>make</th>\n",
              "      <th>fuel-type</th>\n",
              "      <th>body-style</th>\n",
              "      <th>curb-weight</th>\n",
              "      <th>num-of-cylinders</th>\n",
              "      <th>engine-size</th>\n",
              "      <th>horsepower</th>\n",
              "      <th>city-mpg</th>\n",
              "      <th>highway-mpg</th>\n",
              "      <th>price</th>\n",
              "    </tr>\n",
              "  </thead>\n",
              "  <tbody>\n",
              "    <tr>\n",
              "      <th>0</th>\n",
              "      <td>alfa-romero</td>\n",
              "      <td>gas</td>\n",
              "      <td>convertible</td>\n",
              "      <td>2548</td>\n",
              "      <td>four</td>\n",
              "      <td>130</td>\n",
              "      <td>111</td>\n",
              "      <td>21</td>\n",
              "      <td>27</td>\n",
              "      <td>13495</td>\n",
              "    </tr>\n",
              "    <tr>\n",
              "      <th>1</th>\n",
              "      <td>alfa-romero</td>\n",
              "      <td>gas</td>\n",
              "      <td>convertible</td>\n",
              "      <td>2548</td>\n",
              "      <td>four</td>\n",
              "      <td>130</td>\n",
              "      <td>111</td>\n",
              "      <td>21</td>\n",
              "      <td>27</td>\n",
              "      <td>16500</td>\n",
              "    </tr>\n",
              "    <tr>\n",
              "      <th>2</th>\n",
              "      <td>alfa-romero</td>\n",
              "      <td>gas</td>\n",
              "      <td>hatchback</td>\n",
              "      <td>2823</td>\n",
              "      <td>six</td>\n",
              "      <td>152</td>\n",
              "      <td>154</td>\n",
              "      <td>19</td>\n",
              "      <td>26</td>\n",
              "      <td>16500</td>\n",
              "    </tr>\n",
              "    <tr>\n",
              "      <th>3</th>\n",
              "      <td>audi</td>\n",
              "      <td>gas</td>\n",
              "      <td>sedan</td>\n",
              "      <td>2337</td>\n",
              "      <td>four</td>\n",
              "      <td>109</td>\n",
              "      <td>102</td>\n",
              "      <td>24</td>\n",
              "      <td>30</td>\n",
              "      <td>13950</td>\n",
              "    </tr>\n",
              "    <tr>\n",
              "      <th>4</th>\n",
              "      <td>audi</td>\n",
              "      <td>gas</td>\n",
              "      <td>sedan</td>\n",
              "      <td>2824</td>\n",
              "      <td>five</td>\n",
              "      <td>136</td>\n",
              "      <td>115</td>\n",
              "      <td>18</td>\n",
              "      <td>22</td>\n",
              "      <td>17450</td>\n",
              "    </tr>\n",
              "    <tr>\n",
              "      <th>...</th>\n",
              "      <td>...</td>\n",
              "      <td>...</td>\n",
              "      <td>...</td>\n",
              "      <td>...</td>\n",
              "      <td>...</td>\n",
              "      <td>...</td>\n",
              "      <td>...</td>\n",
              "      <td>...</td>\n",
              "      <td>...</td>\n",
              "      <td>...</td>\n",
              "    </tr>\n",
              "    <tr>\n",
              "      <th>194</th>\n",
              "      <td>volvo</td>\n",
              "      <td>gas</td>\n",
              "      <td>sedan</td>\n",
              "      <td>2952</td>\n",
              "      <td>four</td>\n",
              "      <td>141</td>\n",
              "      <td>114</td>\n",
              "      <td>23</td>\n",
              "      <td>28</td>\n",
              "      <td>16845</td>\n",
              "    </tr>\n",
              "    <tr>\n",
              "      <th>195</th>\n",
              "      <td>volvo</td>\n",
              "      <td>gas</td>\n",
              "      <td>sedan</td>\n",
              "      <td>3049</td>\n",
              "      <td>four</td>\n",
              "      <td>141</td>\n",
              "      <td>160</td>\n",
              "      <td>19</td>\n",
              "      <td>25</td>\n",
              "      <td>19045</td>\n",
              "    </tr>\n",
              "    <tr>\n",
              "      <th>196</th>\n",
              "      <td>volvo</td>\n",
              "      <td>gas</td>\n",
              "      <td>sedan</td>\n",
              "      <td>3012</td>\n",
              "      <td>six</td>\n",
              "      <td>173</td>\n",
              "      <td>134</td>\n",
              "      <td>18</td>\n",
              "      <td>23</td>\n",
              "      <td>21485</td>\n",
              "    </tr>\n",
              "    <tr>\n",
              "      <th>197</th>\n",
              "      <td>volvo</td>\n",
              "      <td>diesel</td>\n",
              "      <td>sedan</td>\n",
              "      <td>3217</td>\n",
              "      <td>six</td>\n",
              "      <td>145</td>\n",
              "      <td>106</td>\n",
              "      <td>26</td>\n",
              "      <td>27</td>\n",
              "      <td>22470</td>\n",
              "    </tr>\n",
              "    <tr>\n",
              "      <th>198</th>\n",
              "      <td>volvo</td>\n",
              "      <td>gas</td>\n",
              "      <td>sedan</td>\n",
              "      <td>3062</td>\n",
              "      <td>four</td>\n",
              "      <td>141</td>\n",
              "      <td>114</td>\n",
              "      <td>19</td>\n",
              "      <td>25</td>\n",
              "      <td>22625</td>\n",
              "    </tr>\n",
              "  </tbody>\n",
              "</table>\n",
              "<p>199 rows × 10 columns</p>\n",
              "</div>"
            ],
            "text/plain": [
              "            make fuel-type   body-style  ...  city-mpg highway-mpg  price\n",
              "0    alfa-romero       gas  convertible  ...        21          27  13495\n",
              "1    alfa-romero       gas  convertible  ...        21          27  16500\n",
              "2    alfa-romero       gas    hatchback  ...        19          26  16500\n",
              "3           audi       gas        sedan  ...        24          30  13950\n",
              "4           audi       gas        sedan  ...        18          22  17450\n",
              "..           ...       ...          ...  ...       ...         ...    ...\n",
              "194        volvo       gas        sedan  ...        23          28  16845\n",
              "195        volvo       gas        sedan  ...        19          25  19045\n",
              "196        volvo       gas        sedan  ...        18          23  21485\n",
              "197        volvo    diesel        sedan  ...        26          27  22470\n",
              "198        volvo       gas        sedan  ...        19          25  22625\n",
              "\n",
              "[199 rows x 10 columns]"
            ]
          },
          "metadata": {},
          "execution_count": 17
        }
      ]
    },
    {
      "cell_type": "code",
      "metadata": {
        "id": "p7rFzZVS_Ute"
      },
      "source": [
        "cars_data = df_clean_index_reset"
      ],
      "execution_count": 18,
      "outputs": []
    },
    {
      "cell_type": "code",
      "metadata": {
        "colab": {
          "base_uri": "https://localhost:8080/",
          "height": 662
        },
        "id": "SgKUUivzCd_V",
        "outputId": "eb5d3a18-a227-4bbb-9c90-92e2c05767ee"
      },
      "source": [
        "sns.pairplot(cars_data)"
      ],
      "execution_count": 19,
      "outputs": [
        {
          "output_type": "execute_result",
          "data": {
            "text/plain": [
              "<seaborn.axisgrid.PairGrid at 0x7f2faa1b4dd0>"
            ]
          },
          "metadata": {},
          "execution_count": 19
        },
        {
          "output_type": "display_data",
          "data": {
            "image/png": "[encoded data removed]",
            "text/plain": [
              "<Figure size 720x720 with 20 Axes>"
            ]
          },
          "metadata": {
            "needs_background": "light"
          }
        }
      ]
    },
    {
      "cell_type": "code",
      "metadata": {
        "id": "-lnDCbYO_YTN"
      },
      "source": [
        "cars_data.to_csv(\"Tyron_Cars_Data_Cleaned.csv\",index = False)"
      ],
      "execution_count": 20,
      "outputs": []
    },
    {
      "cell_type": "markdown",
      "metadata": {
        "id": "VliTlPBUHyWW"
      },
      "source": [
        "# Quantative vs. Quantitative \n",
        "\n",
        "```\n",
        "{\n",
        "  \"$schema\": \"https://vega.github.io/schema/vega-lite/v5.json\",\n",
        "  \"description\": \"A simple bar chart with embedded data.\",\n",
        "\"data\": {\"url\": \"https://raw.githubusercontent.com/TyronSamaroo/Visual_Analytics/main/Tyron_Cars_Data_Cleaned.csv\"},\n",
        "  \"mark\": \"point\",\n",
        "  \"encoding\": {\n",
        "    \"x\": {\"field\": \"horsepower\", \"type\": \"quantitative\", \"axis\": {\"labelAngle\": 40}},\n",
        "    \"y\": {\"field\": \"price\", \"type\": \"quantitative\"}\n",
        "  }\n",
        "  \n",
        "}\n",
        "```\n",
        "\n",
        "\n",
        "\n",
        "\n"
      ]
    },
    {
      "cell_type": "markdown",
      "metadata": {
        "id": "WMqAH7bpHZD-"
      },
      "source": [
        "\n",
        "\n",
        "\n",
        "\n",
        "![visualization.png](data:image/png;base64,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)"
      ]
    },
    {
      "cell_type": "markdown",
      "metadata": {
        "id": "dVv8PXrnHZJy"
      },
      "source": [
        "## Questions \n",
        "\n",
        "**Why**\n",
        "\n",
        "**What**\n",
        "\n",
        "**How** "
      ]
    },
    {
      "cell_type": "markdown",
      "metadata": {
        "id": "YaEThTJ9Q1gR"
      },
      "source": [
        "\n",
        "\n",
        "```\n",
        "{\n",
        "  \"$schema\": \"https://vega.github.io/schema/vega-lite/v5.json\",\n",
        "  \"description\": \"A simple bar chart with embedded data.\",\n",
        "\"data\": {\"url\": \"https://raw.githubusercontent.com/TyronSamaroo/Visual_Analytics/main/Tyron_Cars_Data_Cleaned.csv\"},\n",
        "  \"mark\": \"point\",\n",
        "  \"encoding\": {\n",
        "    \"x\": {\"field\": \"horsepower\", \"type\": \"quantitative\", \"axis\": {\"labelAngle\": 40}},\n",
        "    \"y\": {\"field\": \"price\", \"type\": \"quantitative\"},\n",
        "    \"color\": {\"field\": \"body-style\"}\n",
        "  }\n",
        "\n",
        "}\n",
        "\n",
        "```\n",
        "\n"
      ]
    },
    {
      "cell_type": "markdown",
      "metadata": {
        "id": "SXNEoTI_Q5KY"
      },
      "source": [
        "![visualization (2).png](data:image/png;base64,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)"
      ]
    },
    {
      "cell_type": "markdown",
      "metadata": {
        "id": "5CIBLZYPQ84N"
      },
      "source": [
        "## Questions \n",
        "\n",
        "**Why**\n",
        "\n",
        "**What**\n",
        "\n",
        "**How** "
      ]
    },
    {
      "cell_type": "markdown",
      "metadata": {
        "id": "4KFogQODP5zd"
      },
      "source": [
        "\n",
        "\n",
        "```\n",
        "{\n",
        "  \"$schema\": \"https://vega.github.io/schema/vega-lite/v5.json\",\n",
        "  \"description\": \"A simple bar chart with embedded data.\",\n",
        "\"data\": {\"url\": \"https://raw.githubusercontent.com/TyronSamaroo/Visual_Analytics/main/Tyron_Cars_Data_Cleaned.csv\"},\n",
        "  \"mark\": \"bar\",\n",
        "  \"encoding\": {\n",
        "    \"x\": {\"bin\": true, \"field\": \"price\", \"type\": \"quantitative\", \"axis\": {\"labelAngle\": 0}},\n",
        "   \"y\": {\"aggregate\": \"count\"}\n",
        "  }\n",
        "  \n",
        "}\n",
        "\n",
        "\n",
        "```\n",
        "\n"
      ]
    },
    {
      "cell_type": "markdown",
      "metadata": {
        "id": "ZrDWbSssQMVW"
      },
      "source": [
        "![visualization (1).png](data:image/png;base64,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)"
      ]
    },
    {
      "cell_type": "markdown",
      "metadata": {
        "id": "EiXlEDfrI8KC"
      },
      "source": [
        "#Quantitative vs. Categorical \n",
        "\n",
        "\n",
        "\n",
        "```\n",
        "{\n",
        "  \"$schema\": \"https://vega.github.io/schema/vega-lite/v5.json\",\n",
        "  \"description\": \"A simple bar chart with embedded data.\",\n",
        "\"data\": {\"url\": \"https://raw.githubusercontent.com/TyronSamaroo/Visual_Analytics/main/Tyron_Cars_Data_Cleaned.csv\"},\n",
        "  \"mark\": \"point\",\n",
        "  \"encoding\": {\n",
        "    \"x\": {\"field\": \"horsepower\", \"type\": \"quantitative\", \"axis\": {\"labelAngle\": 40}},\n",
        "    \"y\": {\"field\": \"num-of-cylinders\", \"type\": \"ordinal\"}\n",
        "  }\n",
        "  \n",
        "}\n",
        "\n",
        "```\n",
        "\n"
      ]
    },
    {
      "cell_type": "markdown",
      "metadata": {
        "id": "Im3p9BgaJEOl"
      },
      "source": [
        "![vis2.png](data:image/png;base64,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)"
      ]
    },
    {
      "cell_type": "markdown",
      "metadata": {
        "id": "qexMGjtTKUlh"
      },
      "source": [
        "## Questions \n",
        "\n",
        "**Why**\n",
        "\n",
        "**What**\n",
        "\n",
        "**How** "
      ]
    },
    {
      "cell_type": "markdown",
      "metadata": {
        "id": "S0oWAGxhNGgl"
      },
      "source": [
        "#Categorical vs Categorical \n",
        "\n",
        "\n",
        "\n",
        "```\n",
        "{\n",
        "  \"$schema\": \"https://vega.github.io/schema/vega-lite/v5.json\",\n",
        "  \"description\": \"A simple bar chart with embedded data.\",\n",
        "\"data\": {\"url\": \"https://raw.githubusercontent.com/TyronSamaroo/Visual_Analytics/main/Tyron_Cars_Data_Cleaned.csv\"},\n",
        "  \"mark\": \"point\",\n",
        "  \"encoding\": {\n",
        "    \"x\": {\"field\": \"body-style\", \"type\": \"ordinal\", \"axis\": {\"labelAngle\": 40}},\n",
        "    \"y\": {\"field\": \"num-of-cylinders\", \"type\": \"ordinal\"}\n",
        "  }\n",
        "  \n",
        "}\n",
        "\n",
        "```\n",
        "\n"
      ]
    },
    {
      "cell_type": "markdown",
      "metadata": {
        "id": "muK0lnP2NVpt"
      },
      "source": [
        "![vis3.png](data:image/png;base64,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)"
      ]
    },
    {
      "cell_type": "markdown",
      "metadata": {
        "id": "ILEa4OM5NpXc"
      },
      "source": [
        "##Questions\n",
        "Why\n",
        "\n",
        "What\n",
        "\n",
        "How"
      ]
    },
    {
      "cell_type": "code",
      "metadata": {
        "id": "5tHObDv6LBfs"
      },
      "source": [
        ""
      ],
      "execution_count": 21,
      "outputs": []
    }
  ]
}