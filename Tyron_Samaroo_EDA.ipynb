{
  "nbformat": 4,
  "nbformat_minor": 0,
  "metadata": {
    "colab": {
      "name": "Tyron_Samaroo_EDA.ipynb",
      "provenance": [],
      "collapsed_sections": [],
      "authorship_tag": "ABX9TyMt8AfHniBTtgEGrlNy9Rvz",
      "include_colab_link": true
    },
    "kernelspec": {
      "name": "python3",
      "display_name": "Python 3"
    },
    "language_info": {
      "name": "python"
    }
  },
  "cells": [
    {
      "cell_type": "markdown",
      "metadata": {
        "id": "view-in-github",
        "colab_type": "text"
      },
      "source": [
        "<a href=\"https://colab.research.google.com/github/TyronSamaroo/Visual_Analytics/blob/main/Tyron_Samaroo_EDA.ipynb\" target=\"_parent\"><img src=\"https://colab.research.google.com/assets/colab-badge.svg\" alt=\"Open In Colab\"/></a>"
      ]
    },
    {
      "cell_type": "code",
      "execution_count": 5,
      "metadata": {
        "id": "UmoqQZmHtPDS",
        "colab": {
          "base_uri": "https://localhost:8080/"
        },
        "outputId": "07f267ce-3e66-48ea-f5f3-715baebc6ef8"
      },
      "outputs": [
        {
          "output_type": "stream",
          "name": "stdout",
          "text": [
            "Collecting wget\n",
            "  Downloading wget-3.2.zip (10 kB)\n",
            "Building wheels for collected packages: wget\n",
            "  Building wheel for wget (setup.py) ... \u001b[?25l\u001b[?25hdone\n",
            "  Created wheel for wget: filename=wget-3.2-py3-none-any.whl size=9672 sha256=e2f9ac2e3aa864b1959aaad7664d50331472b9ebf88d67ee2c5f70ee18019a27\n",
            "  Stored in directory: /root/.cache/pip/wheels/a1/b6/7c/0e63e34eb06634181c63adacca38b79ff8f35c37e3c13e3c02\n",
            "Successfully built wget\n",
            "Installing collected packages: wget\n",
            "Successfully installed wget-3.2\n"
          ]
        }
      ],
      "source": [
        "#!pip install wget\n",
        "import wget\n",
        "import pandas as pd\n",
        "import zipfile\n",
        "import glob\n"
      ]
    },
    {
      "cell_type": "markdown",
      "source": [
        "## Generating format to collect data"
      ],
      "metadata": {
        "id": "Bc9ajQ7Pn4aa"
      }
    },
    {
      "cell_type": "code",
      "source": [
        "year = ['2019', '2020', '2021']\n",
        "month = []\n",
        "for i in range(1,10):\n",
        "    print(i)\n",
        "    month.append(f\"0{i}\")"
      ],
      "metadata": {
        "colab": {
          "base_uri": "https://localhost:8080/"
        },
        "id": "28gIgH3FtTBT",
        "outputId": "555171d1-8988-4867-a9c2-82cbecd16ac3"
      },
      "execution_count": 6,
      "outputs": [
        {
          "output_type": "stream",
          "name": "stdout",
          "text": [
            "1\n",
            "2\n",
            "3\n",
            "4\n",
            "5\n",
            "6\n",
            "7\n",
            "8\n",
            "9\n"
          ]
        }
      ]
    },
    {
      "cell_type": "code",
      "source": [
        "files = []\n",
        "for years in year:\n",
        "    for mon in month:\n",
        "        year_month = years + mon\n",
        "        url=f\"https://s3.amazonaws.com/tripdata/{year_month}-citibike-tripdata.csv.zip\"\n",
        "        files.append(f\"{year_month}-citibike-tripdata.csv.zip\")\n",
        "        wget.download(url)\n"
      ],
      "metadata": {
        "id": "NWrMqf5LuZsC"
      },
      "execution_count": 7,
      "outputs": []
    },
    {
      "cell_type": "markdown",
      "source": [
        "Extracting CSV'S"
      ],
      "metadata": {
        "id": "H_PfOgIwoEYh"
      }
    },
    {
      "cell_type": "code",
      "source": [
        "for f in files:\n",
        "    with zipfile.ZipFile(f,\"r\") as zip_ref:\n",
        "        zip_ref.extractall(\"citibike\")"
      ],
      "metadata": {
        "id": "djDltjljt8-d"
      },
      "execution_count": 8,
      "outputs": []
    },
    {
      "cell_type": "code",
      "source": [
        "df = pd.read_csv('citibike/201901-citibike-tripdata.csv')"
      ],
      "metadata": {
        "id": "ZZzFCMvQxxuT"
      },
      "execution_count": 9,
      "outputs": []
    },
    {
      "cell_type": "code",
      "source": [
        "combined_csv_data = pd.concat([pd.read_csv(f) for f in all_filenames])"
      ],
      "metadata": {
        "id": "En3Pxbu3uCHX"
      },
      "execution_count": null,
      "outputs": []
    },
    {
      "cell_type": "code",
      "source": [
        "file_extension = '.csv'\n",
        "all_filenames = [i for i in glob.glob(f\"*{file_extension}\")]"
      ],
      "metadata": {
        "id": "XsWXv5YcwMSw"
      },
      "execution_count": 10,
      "outputs": []
    },
    {
      "cell_type": "code",
      "source": [
        ""
      ],
      "metadata": {
        "colab": {
          "base_uri": "https://localhost:8080/",
          "height": 166
        },
        "id": "_skCC-FIwUtU",
        "outputId": "7bd3da0e-f5c6-404c-83e1-f871fadb06bb"
      },
      "execution_count": null,
      "outputs": [
        {
          "output_type": "error",
          "ename": "NameError",
          "evalue": "ignored",
          "traceback": [
            "\u001b[0;31m---------------------------------------------------------------------------\u001b[0m",
            "\u001b[0;31mNameError\u001b[0m                                 Traceback (most recent call last)",
            "\u001b[0;32m<ipython-input-43-c7856db2fbbc>\u001b[0m in \u001b[0;36m<module>\u001b[0;34m()\u001b[0m\n\u001b[0;32m----> 1\u001b[0;31m \u001b[0mZipFile\u001b[0m\u001b[0;34m\u001b[0m\u001b[0;34m\u001b[0m\u001b[0m\n\u001b[0m",
            "\u001b[0;31mNameError\u001b[0m: name 'ZipFile' is not defined"
          ]
        }
      ]
    },
    {
      "cell_type": "code",
      "source": [
        ""
      ],
      "metadata": {
        "id": "YQfZgvgPwcp8"
      },
      "execution_count": null,
      "outputs": []
    }
  ]
}